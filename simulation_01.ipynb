{
 "cells": [
  {
   "cell_type": "markdown",
   "metadata": {
    "colab_type": "text",
    "id": "rF2x3qooyBTI"
   },
   "source": [
    "# Emulator "
   ]
  },
  {
   "cell_type": "markdown",
   "metadata": {
    "colab_type": "text",
    "id": "e1_Y75QXJS6h"
   },
   "source": [
    "### Import TensorFlow and other libraries"
   ]
  },
  {
   "cell_type": "code",
   "execution_count": 375,
   "metadata": {
    "colab": {},
    "colab_type": "code",
    "id": "J5oue0oqCkZZ"
   },
   "outputs": [],
   "source": [
    "from __future__ import absolute_import, division, print_function, unicode_literals"
   ]
  },
  {
   "cell_type": "code",
   "execution_count": 376,
   "metadata": {
    "colab": {},
    "colab_type": "code",
    "id": "g5RstiiB8V-z"
   },
   "outputs": [],
   "source": [
    "try:\n",
    "  # %tensorflow_version only exists in Colab.\n",
    "  %tensorflow_version 2.x\n",
    "except Exception:\n",
    "  pass\n"
   ]
  },
  {
   "cell_type": "code",
   "execution_count": 377,
   "metadata": {
    "colab": {},
    "colab_type": "code",
    "id": "WZKbyU2-AiY-"
   },
   "outputs": [],
   "source": [
    "import tensorflow as tf"
   ]
  },
  {
   "cell_type": "code",
   "execution_count": 378,
   "metadata": {
    "colab": {},
    "colab_type": "code",
    "id": "wx-zNbLqB4K8"
   },
   "outputs": [
    {
     "data": {
      "text/plain": [
       "'2.0.0-rc1'"
      ]
     },
     "execution_count": 378,
     "metadata": {},
     "output_type": "execute_result"
    }
   ],
   "source": [
    "tf.__version__"
   ]
  },
  {
   "cell_type": "code",
   "execution_count": 379,
   "metadata": {
    "colab": {},
    "colab_type": "code",
    "id": "YzTlj4YdCip_"
   },
   "outputs": [],
   "source": [
    "# To generate GIFs\n",
    "!pip install -q imageio"
   ]
  },
  {
   "cell_type": "code",
   "execution_count": 380,
   "metadata": {
    "colab": {},
    "colab_type": "code",
    "id": "YfIk2es3hJEd"
   },
   "outputs": [],
   "source": [
    "import glob\n",
    "import imageio\n",
    "import matplotlib.pyplot as plt\n",
    "import numpy as np\n",
    "import os\n",
    "import PIL\n",
    "from tensorflow.keras import layers\n",
    "import tensorflow.keras\n",
    "import time\n",
    "\n",
    "from IPython import display"
   ]
  },
  {
   "cell_type": "markdown",
   "metadata": {
    "colab_type": "text",
    "id": "iYn4MdZnKCey"
   },
   "source": [
    "### Load and prepare the dataset\n",
    "\n",
    "You will use the MNIST dataset to train the generator and the discriminator. The generator will generate handwritten digits resembling the MNIST data."
   ]
  },
  {
   "cell_type": "code",
   "execution_count": 381,
   "metadata": {},
   "outputs": [],
   "source": [
    "def load_data():\n",
    "    path = './mnist.npz'\n",
    "    with np.load(path) as f:\n",
    "        x_train, y_train = f['x_train'], f['y_train']\n",
    "        x_test, y_test = f['x_test'], f['y_test']\n",
    "\n",
    "    return (x_train, y_train), (x_test, y_test)"
   ]
  },
  {
   "cell_type": "code",
   "execution_count": 382,
   "metadata": {},
   "outputs": [],
   "source": [
    "def load(split):\n",
    "    data = np.load('/Users/d567533/FUnOpt/Emulator/mat.npz')\n",
    "    conditions= data['name1']\n",
    "    sales= data['name2']\n",
    "\n",
    "    # Assume that each row of `features` corresponds to the same row as `labels`.\n",
    "    #assert features.shape[0] == labels.shape[0]\n",
    "\n",
    "    dataset = tf.data.Dataset.from_tensor_slices((conditions, sales))\n",
    "    return dataset\n",
    "    #return (conditions, sales)"
   ]
  },
  {
   "cell_type": "code",
   "execution_count": 383,
   "metadata": {},
   "outputs": [],
   "source": [
    "train_emulator = load('train')"
   ]
  },
  {
   "cell_type": "code",
   "execution_count": 384,
   "metadata": {
    "colab": {},
    "colab_type": "code",
    "id": "S4PIDhoDLbsZ"
   },
   "outputs": [],
   "source": [
    "BUFFER_SIZE = 60000\n",
    "BATCH_SIZE = 2\n",
    "EPOCHS = 50\n",
    "noise_dim = 200\n",
    "num_examples_to_generate = 16"
   ]
  },
  {
   "cell_type": "code",
   "execution_count": 385,
   "metadata": {},
   "outputs": [],
   "source": [
    "train_dataset_emulator = train_emulator.shuffle(BUFFER_SIZE).batch(BATCH_SIZE)"
   ]
  },
  {
   "cell_type": "code",
   "execution_count": 386,
   "metadata": {},
   "outputs": [
    {
     "name": "stdout",
     "output_type": "stream",
     "text": [
      "<BatchDataset shapes: (None, 28, 28, 1), types: tf.float32>\n"
     ]
    }
   ],
   "source": [
    "print(train_dataset)"
   ]
  },
  {
   "cell_type": "code",
   "execution_count": 445,
   "metadata": {},
   "outputs": [
    {
     "name": "stdout",
     "output_type": "stream",
     "text": [
      "(2, 51, 778, 20)\n",
      "(2, 51, 778, 20)\n",
      "(2, 51, 778, 20)\n",
      "(2, 51, 778, 20)\n",
      "(2, 51, 778, 20)\n",
      "(2, 51, 778, 20)\n",
      "(2, 51, 778, 20)\n",
      "(2, 51, 778, 20)\n",
      "(2, 51, 778, 20)\n",
      "(2, 51, 778, 20)\n",
      "(2, 51, 778, 20)\n",
      "(2, 51, 778, 20)\n",
      "(2, 51, 778, 20)\n",
      "(2, 51, 778, 20)\n",
      "(2, 51, 778, 20)\n",
      "(2, 51, 778, 20)\n",
      "(2, 51, 778, 20)\n",
      "(2, 51, 778, 20)\n",
      "(2, 51, 778, 20)\n",
      "(2, 51, 778, 20)\n",
      "(2, 51, 778, 20)\n",
      "(2, 51, 778, 20)\n",
      "(2, 51, 778, 20)\n",
      "(2, 51, 778, 20)\n",
      "(2, 51, 778, 20)\n",
      "(2, 51, 778, 20)\n",
      "(2, 51, 778, 20)\n",
      "(2, 51, 778, 20)\n",
      "(2, 51, 778, 20)\n",
      "(2, 51, 778, 20)\n",
      "(2, 51, 778, 20)\n",
      "(2, 51, 778, 20)\n",
      "(2, 51, 778, 20)\n",
      "(2, 51, 778, 20)\n",
      "(2, 51, 778, 20)\n",
      "(2, 51, 778, 20)\n",
      "(2, 51, 778, 20)\n",
      "(2, 51, 778, 20)\n",
      "(2, 51, 778, 20)\n",
      "(2, 51, 778, 20)\n",
      "(2, 51, 778, 20)\n",
      "(2, 51, 778, 20)\n",
      "(2, 51, 778, 20)\n",
      "(2, 51, 778, 20)\n",
      "(2, 51, 778, 20)\n",
      "(2, 51, 778, 20)\n",
      "(2, 51, 778, 20)\n",
      "(2, 51, 778, 20)\n",
      "(2, 51, 778, 20)\n",
      "(2, 51, 778, 20)\n",
      "(2, 51, 778, 20)\n",
      "(2, 51, 778, 20)\n",
      "(2, 51, 778, 20)\n",
      "(2, 51, 778, 20)\n",
      "(2, 51, 778, 20)\n",
      "(2, 51, 778, 20)\n",
      "(2, 51, 778, 20)\n",
      "(2, 51, 778, 20)\n",
      "(2, 51, 778, 20)\n",
      "(2, 51, 778, 20)\n",
      "(2, 51, 778, 20)\n",
      "(2, 51, 778, 20)\n",
      "(2, 51, 778, 20)\n",
      "(2, 51, 778, 20)\n",
      "(2, 51, 778, 20)\n",
      "(2, 51, 778, 20)\n",
      "(2, 51, 778, 20)\n",
      "(2, 51, 778, 20)\n",
      "(2, 51, 778, 20)\n",
      "(2, 51, 778, 20)\n",
      "(2, 51, 778, 20)\n",
      "(2, 51, 778, 20)\n",
      "(2, 51, 778, 20)\n",
      "(2, 51, 778, 20)\n",
      "(2, 51, 778, 20)\n",
      "75\n"
     ]
    }
   ],
   "source": [
    "s=0\n",
    "for batch in train_dataset_emulator:\n",
    "     #print(batch[0][0].shape,batch[1][0].shape)\n",
    "     #print(batch[0].shape)\n",
    "    print(batch[0].shape)\n",
    "    s +=1\n",
    "print(s)"
   ]
  },
  {
   "cell_type": "code",
   "execution_count": 389,
   "metadata": {
    "colab": {},
    "colab_type": "code",
    "id": "a4fYMGxGhrna"
   },
   "outputs": [],
   "source": [
    "(train_images, train_labels), (_, _) = load_data()"
   ]
  },
  {
   "cell_type": "code",
   "execution_count": 390,
   "metadata": {
    "colab": {},
    "colab_type": "code",
    "id": "NFC2ghIdiZYE"
   },
   "outputs": [],
   "source": [
    "train_images = train_images.reshape(train_images.shape[0], 28, 28, 1).astype('float32')\n",
    "train_images = (train_images - 127.5) / 127.5 # Normalize the images to [-1, 1]"
   ]
  },
  {
   "cell_type": "code",
   "execution_count": 391,
   "metadata": {
    "colab": {},
    "colab_type": "code",
    "id": "-yKCCQOoJ7cn"
   },
   "outputs": [],
   "source": [
    "# Batch and shuffle the data\n",
    "train_dataset = tf.data.Dataset.from_tensor_slices(train_images).shuffle(BUFFER_SIZE).batch(BATCH_SIZE)"
   ]
  },
  {
   "cell_type": "markdown",
   "metadata": {
    "colab_type": "text",
    "id": "THY-sZMiQ4UV"
   },
   "source": [
    "## Create the models\n",
    "\n",
    "Both the generator and discriminator are defined using the [Keras Sequential API](https://www.tensorflow.org/guide/keras#sequential_model)."
   ]
  },
  {
   "cell_type": "markdown",
   "metadata": {
    "colab_type": "text",
    "id": "-tEyxE-GMC48"
   },
   "source": [
    "### The Generator\n",
    "\n",
    "The generator uses `tf.keras.layers.Conv2DTranspose` (upsampling) layers to produce an image from a seed (random noise). Start with a `Dense` layer that takes this seed as input, then upsample several times until you reach the desired image size of 28x28x1. Notice the `tf.keras.layers.LeakyReLU` activation for each layer, except the output layer which uses tanh."
   ]
  },
  {
   "cell_type": "code",
   "execution_count": 393,
   "metadata": {
    "colab": {},
    "colab_type": "code",
    "id": "6bpTcDqoLWjY"
   },
   "outputs": [],
   "source": [
    "def make_generator_model():\n",
    "    model = tf.keras.Sequential()\n",
    "    model.add(layers.Dense(7*7*256, use_bias=False, input_shape=(noise_dim,)))\n",
    "    model.add(layers.BatchNormalization())\n",
    "    model.add(layers.LeakyReLU())\n",
    "\n",
    "    model.add(layers.Reshape((7, 7, 256)))\n",
    "    assert model.output_shape == (None, 7, 7, 256) # Note: None is the batch size\n",
    "\n",
    "    model.add(layers.Conv2DTranspose(128, (5, 5), strides=(1, 1), padding='same', use_bias=False))\n",
    "    assert model.output_shape == (None, 7, 7, 128)\n",
    "    model.add(layers.BatchNormalization())\n",
    "    model.add(layers.LeakyReLU())\n",
    "\n",
    "    model.add(layers.Conv2DTranspose(64, (5, 5), strides=(2, 2), padding='same', use_bias=False))\n",
    "    assert model.output_shape == (None, 14, 14, 64)\n",
    "    model.add(layers.BatchNormalization())\n",
    "    model.add(layers.LeakyReLU())\n",
    "\n",
    "    model.add(layers.Conv2DTranspose(1, (5, 5), strides=(2, 2), padding='same', use_bias=False, activation='tanh'))\n",
    "    assert model.output_shape == (None, 28, 28, 1)\n",
    "   \n",
    "    return model"
   ]
  },
  {
   "cell_type": "code",
   "execution_count": 394,
   "metadata": {
    "colab": {},
    "colab_type": "code",
    "id": "gl7jcC7TdPTG"
   },
   "outputs": [
    {
     "data": {
      "text/plain": [
       "<matplotlib.image.AxesImage at 0x146011d68>"
      ]
     },
     "execution_count": 394,
     "metadata": {},
     "output_type": "execute_result"
    },
    {
     "data": {
      "image/png": "[encoded data removed]",
      "text/plain": [
       "<Figure size 432x288 with 1 Axes>"
      ]
     },
     "metadata": {
      "needs_background": "light"
     },
     "output_type": "display_data"
    }
   ],
   "source": [
    "generator = make_generator_model()\n",
    "\n",
    "\n",
    "noise = tf.random.normal([10, noise_dim])\n",
    "generated_image = generator(noise, training=False)\n",
    "\n",
    "plt.imshow(generated_image[0, :, :, 0], cmap='gray')"
   ]
  },
  {
   "cell_type": "code",
   "execution_count": 395,
   "metadata": {},
   "outputs": [],
   "source": [
    "def make_generator_model_emulator():\n",
    "    \n",
    "    inputs1 = tf.keras.Input(shape=(51,778,20))\n",
    "    inputs2 = tf.keras.Input(shape=(noise_dim,))\n",
    "    \n",
    "    x = tf.keras.layers.Conv2D(64, (10, 10), strides=(10,10), padding='same')(inputs1)\n",
    "    x = tf.keras.layers.Flatten()(x)\n",
    "    x = tf.keras.layers.Dropout(0.3)(x)\n",
    "    x = tf.keras.layers.Dense(500, activation=tf.nn.relu)(x)\n",
    "    #x = tf.keras.layers.Dense(500, activation=tf.nn.softmax)(x)\n",
    "    x = tf.keras.layers.Flatten()(x)\n",
    "    \n",
    "    y = tf.keras.layers.Dense(500)(inputs2) ##noise input\n",
    "    y = tf.keras.layers.Flatten()(y)\n",
    "    x = tf.concat([x,y],-1)\n",
    "\n",
    "    x = tf.keras.layers.Dense(500, activation=tf.nn.relu)(x)\n",
    "    x = tf.keras.layers.Dense(778, activation=tf.nn.relu)(x)\n",
    "    inputs=[inputs1,inputs2]\n",
    "    outputs = x\n",
    "    model = tf.keras.Model(inputs=inputs, outputs=[inputs1,x])\n",
    "  \n",
    "    return model"
   ]
  },
  {
   "cell_type": "markdown",
   "metadata": {
    "colab_type": "text",
    "id": "GyWgG09LCSJl"
   },
   "source": [
    "Use the (as yet untrained) generator to create an image."
   ]
  },
  {
   "cell_type": "code",
   "execution_count": 396,
   "metadata": {
    "colab": {},
    "colab_type": "code",
    "id": "gl7jcC7TdPTG"
   },
   "outputs": [
    {
     "name": "stdout",
     "output_type": "stream",
     "text": [
      "[<tf.Tensor: id=54926, shape=(10, 51, 778, 20), dtype=float32, numpy=\n",
      "array([[[[-2.41768539e-01, -1.06502163e+00,  3.61111820e-01, ...,\n",
      "           1.19379818e+00, -3.86802018e-01,  1.08255792e+00],\n",
      "         [ 4.60734963e-01,  8.43843162e-01, -1.76517057e+00, ...,\n",
      "           9.75674748e-01,  3.32639903e-01, -2.27553155e-02],\n",
      "         [ 7.30257332e-01, -8.81289005e-01,  1.02987456e+00, ...,\n",
      "           6.29250705e-01, -1.76661193e-01, -3.53625387e-01],\n",
      "         ...,\n",
      "         [ 2.76755005e-01,  1.66948211e+00,  4.35620844e-01, ...,\n",
      "          -1.75165430e-01,  1.60718811e+00,  5.54332495e-01],\n",
      "         [ 7.80849218e-01, -1.05148292e+00, -7.80814588e-01, ...,\n",
      "           5.67268848e-01, -2.46795607e+00,  2.44677395e-01],\n",
      "         [-1.97394162e-01,  5.31583965e-01,  9.25596595e-01, ...,\n",
      "           1.38962817e+00,  5.50833106e-01, -1.86848414e+00]],\n",
      "\n",
      "        [[-1.35241020e+00,  7.25992978e-01,  7.03613937e-01, ...,\n",
      "          -9.43220913e-01, -7.14124203e-01,  1.62707686e-01],\n",
      "         [ 4.05238956e-01, -9.72622693e-01,  2.43321896e-01, ...,\n",
      "           8.59170437e-01,  1.93689644e+00, -7.53241358e-03],\n",
      "         [ 9.26855445e-01,  9.85702455e-01,  1.84779978e+00, ...,\n",
      "          -1.11997701e-01, -1.55979669e+00,  1.99592924e+00],\n",
      "         ...,\n",
      "         [-8.26770663e-01, -8.42544258e-01, -7.58330703e-01, ...,\n",
      "          -1.20479906e+00,  1.17826772e+00,  5.34239888e-01],\n",
      "         [-3.68249655e-01, -1.06685758e+00,  2.98878729e-01, ...,\n",
      "          -1.36923170e+00, -1.42922878e+00, -6.28418267e-01],\n",
      "         [ 1.43576336e+00,  9.65278089e-01,  2.17403841e+00, ...,\n",
      "           9.03969407e-01, -9.15277183e-01,  1.51086044e+00]],\n",
      "\n",
      "        [[ 1.86987257e+00,  4.29552644e-01, -8.39787602e-01, ...,\n",
      "          -1.00210261e+00,  9.49412763e-01,  1.09333873e+00],\n",
      "         [-3.95709127e-01,  7.09741652e-01, -2.30486131e+00, ...,\n",
      "           4.71456617e-01, -1.40458643e+00, -9.09967422e-01],\n",
      "         [ 7.76649117e-01,  4.57734793e-01,  1.14081657e+00, ...,\n",
      "           2.75430232e-01,  7.88563669e-01, -8.68532300e-01],\n",
      "         ...,\n",
      "         [ 6.41135752e-01, -5.37928104e-01,  1.21866874e-01, ...,\n",
      "          -3.51460963e-01, -2.09510350e+00, -1.61519659e+00],\n",
      "         [ 1.86855629e-01, -2.59505242e-01, -3.20275992e-01, ...,\n",
      "          -2.19158745e+00, -3.42021942e+00, -1.10420823e+00],\n",
      "         [-2.58247823e-01,  5.78490317e-01, -7.60177433e-01, ...,\n",
      "           5.69230914e-01, -2.64765352e-01, -7.06391215e-01]],\n",
      "\n",
      "        ...,\n",
      "\n",
      "        [[-1.38714865e-01, -3.25973816e-02,  3.43691111e-01, ...,\n",
      "           4.85335244e-03,  4.24116254e-01,  1.24482679e+00],\n",
      "         [-3.57737035e-01,  4.16745961e-01,  7.03593791e-01, ...,\n",
      "           7.25223184e-01,  2.61672229e-01, -4.10543501e-01],\n",
      "         [-3.60329688e-01, -2.68505573e-01,  1.74903917e+00, ...,\n",
      "          -5.65597296e-01,  2.32200909e+00, -1.10874605e+00],\n",
      "         ...,\n",
      "         [-1.75829113e+00, -2.63556033e-01,  1.22879207e+00, ...,\n",
      "          -6.39250219e-01, -6.65640831e-01,  3.40724677e-01],\n",
      "         [ 2.16631234e-01, -3.29008371e-01, -5.75714886e-01, ...,\n",
      "           1.45274222e+00,  2.92822766e+00, -3.54711294e-01],\n",
      "         [-1.02658856e+00,  5.38558304e-01, -6.19249642e-01, ...,\n",
      "           1.23288959e-01, -1.00022149e+00,  2.89685225e+00]],\n",
      "\n",
      "        [[-8.41263175e-01,  4.32050377e-01,  2.64887512e-01, ...,\n",
      "          -1.10503495e+00, -1.28966618e+00,  5.37275791e-01],\n",
      "         [ 4.64759141e-01, -1.20443392e+00, -8.25454473e-01, ...,\n",
      "           2.66310716e+00,  7.97986627e-01, -9.54960227e-01],\n",
      "         [-1.72186685e+00,  3.72559369e-01,  6.04718983e-01, ...,\n",
      "           1.28046012e+00, -2.89322734e-01, -4.86325055e-01],\n",
      "         ...,\n",
      "         [-1.48038220e+00,  8.08351576e-01,  7.75279880e-01, ...,\n",
      "           1.72141349e+00,  2.44634032e+00, -7.72491455e-01],\n",
      "         [-1.31805050e+00, -6.31675899e-01, -7.59597838e-01, ...,\n",
      "          -1.04331136e+00, -8.16574097e-02,  1.11719632e+00],\n",
      "         [-9.48009640e-02,  6.60031736e-02,  4.44457203e-01, ...,\n",
      "           8.14597785e-01, -8.04719269e-01, -1.21745515e+00]],\n",
      "\n",
      "        [[ 3.62146825e-01,  2.80936420e-01, -1.00351132e-01, ...,\n",
      "          -8.32434714e-01,  1.49790853e-01,  1.89617202e-01],\n",
      "         [-6.15207136e-01, -4.15826440e-01, -1.18597734e+00, ...,\n",
      "           3.14559841e+00, -1.85983256e-01, -2.06480138e-02],\n",
      "         [ 3.89813721e-01, -1.39041424e+00, -7.66900957e-01, ...,\n",
      "          -5.51588953e-01, -1.15415454e-01, -1.19283092e+00],\n",
      "         ...,\n",
      "         [ 4.84319031e-01, -6.17824972e-01,  5.99776804e-01, ...,\n",
      "           4.21555251e-01,  1.14017701e+00,  3.07820559e-01],\n",
      "         [ 1.16266692e+00,  5.28559208e-01, -9.76890326e-01, ...,\n",
      "           1.14880419e+00,  1.36660352e-01,  1.55104160e+00],\n",
      "         [ 3.31431255e-02, -8.28267217e-01,  1.01651347e+00, ...,\n",
      "          -1.47066092e+00,  1.52596191e-01,  2.25785822e-01]]],\n",
      "\n",
      "\n",
      "       [[[ 8.22946951e-02, -1.39379525e+00, -8.99993181e-02, ...,\n",
      "           7.01230586e-01, -1.44070283e-01,  1.93760908e+00],\n",
      "         [-1.29330635e+00, -7.57229328e-02, -3.75644326e-01, ...,\n",
      "           1.23120867e-01, -3.79974276e-01,  8.25813055e-01],\n",
      "         [-1.42628121e+00, -1.76436186e+00,  5.44476032e-01, ...,\n",
      "          -8.83644938e-01,  5.26467800e-01, -7.03478158e-01],\n",
      "         ...,\n",
      "         [ 6.93862021e-01,  4.58276868e-01, -3.30278397e-01, ...,\n",
      "           5.69311976e-01, -7.49568999e-01,  9.28815380e-02],\n",
      "         [-1.16743886e+00,  3.78140301e-01,  3.07322592e-01, ...,\n",
      "           1.20493686e+00,  2.61342001e+00, -1.41465473e+00],\n",
      "         [-3.26303720e-01,  5.06531000e-01, -6.22765958e-01, ...,\n",
      "           9.18790773e-02, -1.08051586e+00, -1.13501370e+00]],\n",
      "\n",
      "        [[-2.76474953e-01, -5.32117486e-01, -1.31746143e-01, ...,\n",
      "          -1.38779581e-01,  4.07339305e-01, -1.47344673e+00],\n",
      "         [ 1.58512771e+00,  1.89392522e-01,  1.29461706e+00, ...,\n",
      "          -2.79097706e-01, -2.18884274e-01, -4.50649649e-01],\n",
      "         [-1.73813760e-01, -2.45322540e-01, -3.73449653e-01, ...,\n",
      "          -9.07911301e-01,  1.47313923e-01, -1.01174724e+00],\n",
      "         ...,\n",
      "         [-2.88819611e-01,  2.04585600e+00,  8.41821671e-01, ...,\n",
      "          -6.03175998e-01, -1.96233019e-01, -1.26749313e+00],\n",
      "         [ 2.37084672e-01, -5.08122802e-01,  1.24062943e+00, ...,\n",
      "           9.61905539e-01,  7.33155966e-01,  8.54098201e-01],\n",
      "         [ 1.60194480e+00, -7.71010697e-01, -9.26932991e-01, ...,\n",
      "           7.06130087e-01, -2.08233654e-01, -2.31382735e-02]],\n",
      "\n",
      "        [[-6.67952716e-01,  2.69626826e-02, -7.06812203e-01, ...,\n",
      "           1.84724784e+00, -4.43371711e-03,  1.30159855e+00],\n",
      "         [-4.41897422e-01,  8.68385911e-01, -3.55915129e-02, ...,\n",
      "           3.77842784e-02, -4.19558078e-01,  3.31911474e-01],\n",
      "         [ 5.93672507e-02,  1.64695814e-01, -1.10338151e+00, ...,\n",
      "          -2.21040621e-01, -5.56639768e-02,  6.47117376e-01],\n",
      "         ...,\n",
      "         [-1.08600892e-02, -1.66034535e-01,  3.24083060e-01, ...,\n",
      "           7.91536927e-01, -2.49639869e+00, -1.97690248e-01],\n",
      "         [-1.34661210e+00, -1.67617297e+00,  1.35304296e+00, ...,\n",
      "           2.96076238e-01,  1.38494992e+00,  4.12428766e-01],\n",
      "         [-3.45313102e-01,  5.33378959e-01, -1.64704001e+00, ...,\n",
      "           1.05989382e-01, -1.11359894e+00, -8.99611056e-01]],\n",
      "\n",
      "        ...,\n",
      "\n",
      "        [[-7.18835711e-01,  7.32331395e-01, -6.29188180e-01, ...,\n",
      "          -5.14779150e-01,  7.98877478e-01, -3.46185088e-01],\n",
      "         [-2.26506621e-01,  1.81328022e+00,  7.85058737e-01, ...,\n",
      "           1.27588511e+00,  7.33157814e-01,  8.93168449e-01],\n",
      "         [-7.57799819e-02,  1.17940617e+00, -1.45123458e+00, ...,\n",
      "          -4.41892356e-01, -3.14251810e-01,  5.54867759e-02],\n",
      "         ...,\n",
      "         [ 6.96456850e-01,  6.38758481e-01,  8.80553722e-01, ...,\n",
      "           8.11446965e-01, -9.88796175e-01,  4.56422508e-01],\n",
      "         [-1.18759811e-01, -4.35383409e-01,  2.59302288e-01, ...,\n",
      "           1.75156033e+00,  2.27419877e+00, -4.39976268e-02],\n",
      "         [-6.36276722e-01,  1.34229183e+00, -7.88681269e-01, ...,\n",
      "          -8.93816724e-02,  1.85771585e+00,  1.09099591e+00]],\n",
      "\n",
      "        [[ 2.40824565e-01,  1.49701488e+00,  1.67463720e+00, ...,\n",
      "           1.08410370e+00, -3.32310915e-01,  6.49401784e-01],\n",
      "         [-1.02917385e+00, -1.78278673e+00, -1.53086036e-02, ...,\n",
      "           1.53778291e+00,  7.14137554e-01,  1.35965443e+00],\n",
      "         [ 8.84980202e-01, -2.24716753e-01,  1.37546813e+00, ...,\n",
      "           3.15572232e-01, -1.09438527e+00, -1.36209214e+00],\n",
      "         ...,\n",
      "         [ 8.99331272e-01, -2.11412907e-01,  2.48342127e-01, ...,\n",
      "          -5.04816353e-01, -5.90115130e-01,  1.91118449e-01],\n",
      "         [-1.49661541e+00,  5.61568916e-01,  1.26807833e+00, ...,\n",
      "          -6.01090789e-02, -1.03312485e-01, -4.71363038e-01],\n",
      "         [ 2.30149674e+00, -6.97970569e-01, -5.12109399e-01, ...,\n",
      "          -7.81087935e-01, -1.62577987e+00,  1.27004886e+00]],\n",
      "\n",
      "        [[-3.92097700e-03,  9.35302615e-01,  3.44916284e-01, ...,\n",
      "           5.37242711e-01, -3.55956614e-01,  2.02675104e+00],\n",
      "         [-6.86298132e-01,  2.19216251e+00, -1.63674927e+00, ...,\n",
      "          -1.21565330e+00, -1.55524111e+00, -2.52621472e-01],\n",
      "         [-5.72221041e-01,  1.62714863e+00, -6.61504149e-01, ...,\n",
      "           4.96307403e-01, -6.12939954e-01,  9.70493555e-01],\n",
      "         ...,\n",
      "         [-3.85777831e-01, -1.14828575e+00, -6.00908756e-01, ...,\n",
      "          -3.59096497e-01, -1.40258265e+00, -3.85468692e-01],\n",
      "         [ 2.29740813e-01,  4.64069992e-01, -3.47770870e-01, ...,\n",
      "          -6.83542252e-01,  4.10638571e-01,  1.15025389e+00],\n",
      "         [ 9.13811862e-01,  8.53461564e-01,  3.25874239e-01, ...,\n",
      "          -3.90906662e-01,  1.68255472e+00, -5.62646627e-01]]],\n",
      "\n",
      "\n",
      "       [[[ 2.61908174e+00,  1.20350301e+00, -1.67967165e+00, ...,\n",
      "           8.09320807e-01,  1.65185380e+00,  2.08865762e+00],\n",
      "         [ 1.94446039e+00, -1.99699625e-01,  9.01170745e-02, ...,\n",
      "           1.58054829e+00,  2.15562269e-01, -2.87356198e-01],\n",
      "         [-1.14217508e+00,  1.73841584e+00,  1.18806052e+00, ...,\n",
      "          -4.38584626e-01,  8.24082196e-02,  3.77677917e-01],\n",
      "         ...,\n",
      "         [-6.85957968e-01, -8.21404397e-01, -1.72855091e+00, ...,\n",
      "           6.40877128e-01,  1.01956260e+00,  3.95576715e-01],\n",
      "         [ 1.01151013e+00,  7.65790582e-01, -6.19383752e-01, ...,\n",
      "          -7.73534104e-02, -3.37191075e-01,  6.82637334e-01],\n",
      "         [ 2.92267829e-01, -4.79087591e-01, -4.95854110e-01, ...,\n",
      "           9.14822161e-01, -3.51678848e-01, -1.69793501e-01]],\n",
      "\n",
      "        [[ 7.06634223e-01,  5.43909729e-01,  1.30164182e+00, ...,\n",
      "          -2.14909935e+00,  1.28969908e+00,  1.34427297e+00],\n",
      "         [-1.38717318e+00, -1.12816727e+00,  9.10361111e-01, ...,\n",
      "           8.11636269e-01, -1.25854063e+00,  1.31307948e+00],\n",
      "         [-2.46781230e+00, -6.91675603e-01,  3.83378327e-01, ...,\n",
      "           1.44449964e-01, -2.40902156e-01, -1.61469027e-01],\n",
      "         ...,\n",
      "         [-2.85276860e-01, -5.57805181e-01, -1.17818527e-01, ...,\n",
      "           1.32472026e+00, -3.84913862e-01, -4.91609305e-01],\n",
      "         [-9.88931730e-02,  5.01252055e-01, -2.19500452e-01, ...,\n",
      "          -9.13656890e-01, -1.50981054e-01,  1.53276992e+00],\n",
      "         [-4.62735305e-03,  1.54947788e-01, -9.90266427e-02, ...,\n",
      "          -4.42480713e-01,  6.33062124e-01,  5.17653227e-01]],\n",
      "\n",
      "        [[-6.86858356e-01,  6.61186874e-01, -3.76726002e-01, ...,\n",
      "          -5.72031558e-01, -4.57078487e-01, -6.97495818e-01],\n",
      "         [-9.22590375e-01, -3.01279835e-02,  1.80637658e-01, ...,\n",
      "           1.14773238e+00,  2.40680933e-01, -1.18485284e+00],\n",
      "         [-2.74245948e-01,  6.27884865e-02,  2.30212784e+00, ...,\n",
      "          -8.88090491e-01,  4.05032814e-01, -2.06644964e+00],\n",
      "         ...,\n",
      "         [-1.64798427e+00, -8.76393169e-02,  1.00925601e+00, ...,\n",
      "           3.09349597e-01, -8.58383596e-01, -4.75789458e-01],\n",
      "         [-3.18235993e-01, -2.15380475e-01, -7.31214702e-01, ...,\n",
      "          -5.79348147e-01, -1.43263710e+00,  4.12020504e-01],\n",
      "         [-2.31381401e-01,  5.24654508e-01, -1.30515230e+00, ...,\n",
      "           5.52862525e-01, -8.30527365e-01, -3.93704951e-01]],\n",
      "\n",
      "        ...,\n",
      "\n",
      "        [[-5.88401794e-01, -5.18827558e-01, -2.21189761e+00, ...,\n",
      "          -6.46943033e-01,  4.87562530e-02, -1.24239659e+00],\n",
      "         [-1.44732392e+00, -8.50250602e-01,  5.95093191e-01, ...,\n",
      "          -1.01125920e+00,  3.80677551e-01, -1.34890544e+00],\n",
      "         [ 6.39062166e-01, -1.00492287e+00,  2.64596403e-01, ...,\n",
      "           5.80254495e-01, -4.69526142e-01,  5.19072533e-01],\n",
      "         ...,\n",
      "         [ 1.42436755e+00, -3.11918497e-01, -5.00620961e-01, ...,\n",
      "           4.11904991e-01,  1.58001885e-01,  7.56515920e-01],\n",
      "         [ 2.57607847e-01,  7.12508500e-01, -4.79143620e-01, ...,\n",
      "          -5.86181641e-01, -4.45694476e-01,  3.04637551e+00],\n",
      "         [-1.45382416e+00,  3.69917721e-01,  1.92752294e-02, ...,\n",
      "          -7.11520851e-01,  7.02845275e-01,  5.94741344e-01]],\n",
      "\n",
      "        [[ 1.65015012e-01,  1.62185764e+00, -4.89383668e-01, ...,\n",
      "          -1.22070348e+00,  6.56008959e-01, -1.32716298e-01],\n",
      "         [ 5.38136184e-01,  5.50817549e-01, -2.17638063e+00, ...,\n",
      "           1.23055947e+00,  3.25016044e-02, -2.86445707e-01],\n",
      "         [-1.14158583e+00,  6.94662511e-01, -1.79052269e+00, ...,\n",
      "          -6.85334802e-01,  2.81583214e+00,  2.74111360e-01],\n",
      "         ...,\n",
      "         [ 3.19319391e+00, -1.58608532e+00,  8.14448595e-01, ...,\n",
      "           1.10379255e+00,  3.47075701e-01,  1.58385599e+00],\n",
      "         [-9.93920147e-01, -1.55779377e-01,  2.14168429e+00, ...,\n",
      "          -2.11272657e-01,  6.96528971e-01, -2.08856106e+00],\n",
      "         [ 5.12897484e-02, -6.85540497e-01,  1.97883055e-01, ...,\n",
      "          -8.98392558e-01,  1.48548737e-01,  7.87941575e-01]],\n",
      "\n",
      "        [[-9.39009070e-01, -4.77120101e-01, -7.00437129e-01, ...,\n",
      "          -1.15721989e+00,  3.94193918e-01,  8.14931631e-01],\n",
      "         [-3.93879116e-01,  3.89139712e-01, -6.32091105e-01, ...,\n",
      "           5.52251101e-01, -8.77849996e-01, -7.45451689e-01],\n",
      "         [-4.02653903e-01, -4.83514555e-02, -1.20244467e+00, ...,\n",
      "          -6.96319640e-01,  1.11425292e+00, -1.11210310e+00],\n",
      "         ...,\n",
      "         [-3.27149034e-01, -3.42837512e-01, -3.63513559e-01, ...,\n",
      "           2.46881723e-01,  1.35847080e+00, -1.13691914e+00],\n",
      "         [-5.26491225e-01,  2.32644212e-02, -8.39346051e-01, ...,\n",
      "           1.22347689e+00, -1.34300208e-02, -1.12248886e+00],\n",
      "         [ 5.27027845e-01, -4.10796940e-01, -2.03469944e+00, ...,\n",
      "          -3.37975770e-01, -4.42677379e-01, -1.95701927e-01]]],\n",
      "\n",
      "\n",
      "       ...,\n",
      "\n",
      "\n",
      "       [[[-5.85095108e-01,  1.51601434e+00, -1.44974113e+00, ...,\n",
      "           8.89168680e-01, -6.04604006e-01,  1.96944261e+00],\n",
      "         [-6.70276046e-01, -7.75920212e-01,  3.33572447e-01, ...,\n",
      "           3.26674432e-01, -1.30727753e-01, -1.01508546e+00],\n",
      "         [ 1.67957932e-01, -5.41058958e-01, -7.61606395e-01, ...,\n",
      "           2.33270860e+00, -1.39369643e+00,  7.13474154e-01],\n",
      "         ...,\n",
      "         [ 7.22660363e-01,  8.64556208e-02,  8.04730952e-01, ...,\n",
      "          -1.48797822e+00, -7.77599394e-01,  4.49636094e-02],\n",
      "         [-5.99024832e-01, -1.31405473e+00, -4.18777764e-01, ...,\n",
      "           1.29765451e+00, -1.09261125e-01,  9.44943488e-01],\n",
      "         [-7.13986695e-01,  1.79634586e-01, -1.39440644e+00, ...,\n",
      "          -5.62545180e-01,  2.10265502e-01, -2.83453405e-01]],\n",
      "\n",
      "        [[ 1.78089964e+00,  4.71257657e-01, -5.10571182e-01, ...,\n",
      "           9.58887637e-01, -1.14306080e+00, -2.13949156e+00],\n",
      "         [ 8.04820955e-02, -1.73570320e-01,  2.26876065e-01, ...,\n",
      "           2.26513457e+00, -8.29242170e-02, -1.08974695e+00],\n",
      "         [ 1.30005503e+00,  5.77070773e-01, -2.32790582e-04, ...,\n",
      "           5.38156450e-01,  1.86222732e+00, -5.16459167e-01],\n",
      "         ...,\n",
      "         [ 3.11865658e-01,  5.39076269e-01, -1.09555542e+00, ...,\n",
      "          -2.01081872e+00, -2.97846496e-01,  6.47670388e-01],\n",
      "         [ 4.81142581e-01,  3.21524143e-02, -1.92728412e+00, ...,\n",
      "          -1.25144207e+00,  4.27910030e-01, -7.36000061e-01],\n",
      "         [-9.75918055e-01, -2.89739549e-01,  1.48686767e-01, ...,\n",
      "           2.26603765e-02,  2.83667833e-01,  1.86949566e-01]],\n",
      "\n",
      "        [[-9.00838792e-01, -3.94454569e-01,  7.45759755e-02, ...,\n",
      "           5.00043213e-01,  4.16095592e-02,  2.07559514e+00],\n",
      "         [-4.86405581e-01,  8.10506105e-01, -2.21581292e+00, ...,\n",
      "          -7.89925814e-01,  1.46074697e-01,  3.58024448e-01],\n",
      "         [ 3.73502195e-01,  1.83370337e-01,  1.06245089e+00, ...,\n",
      "          -1.08965909e+00,  5.55599570e-01, -1.51333189e+00],\n",
      "         ...,\n",
      "         [ 1.44883603e-01, -7.31275320e-01,  7.74521589e-01, ...,\n",
      "          -4.31133837e-01, -4.47891615e-02,  1.32262230e+00],\n",
      "         [-1.20306849e+00,  2.11835310e-01,  1.03644836e+00, ...,\n",
      "          -4.13515449e-01, -2.98069984e-01,  1.90940693e-01],\n",
      "         [-1.57067835e-01, -6.55191898e-01, -7.02826142e-01, ...,\n",
      "          -5.63805997e-01,  2.15403810e-01, -5.10545194e-01]],\n",
      "\n",
      "        ...,\n",
      "\n",
      "        [[-2.53542811e-01,  6.92035258e-01,  1.69116843e+00, ...,\n",
      "           4.50453788e-01,  1.68072119e-01, -3.45335037e-01],\n",
      "         [ 2.45074585e-01,  7.29457557e-01,  1.10072148e+00, ...,\n",
      "          -1.23004273e-01, -1.83186114e-01, -1.24004030e+00],\n",
      "         [ 3.92147899e-01,  1.43737987e-01, -9.12877023e-01, ...,\n",
      "          -1.33290648e+00,  1.92884278e+00,  5.84483266e-01],\n",
      "         ...,\n",
      "         [-2.35618305e+00, -8.88615921e-02, -2.82859713e-01, ...,\n",
      "          -1.83389091e+00, -1.61630952e+00, -1.03118587e+00],\n",
      "         [-1.67740071e+00, -5.55986702e-01,  1.18420655e-02, ...,\n",
      "           3.13937783e-01, -1.46591330e+00, -1.46379566e+00],\n",
      "         [ 5.14624596e-01, -6.37651801e-01,  6.95248544e-01, ...,\n",
      "          -1.63353515e+00,  2.19416946e-01,  1.14953732e+00]],\n",
      "\n",
      "        [[-6.39792904e-02, -2.53705287e+00, -1.06258774e+00, ...,\n",
      "          -9.51394796e-01,  3.12724441e-01, -2.21935511e+00],\n",
      "         [-2.95246577e+00, -2.86812186e-01,  6.78994358e-01, ...,\n",
      "           3.32794040e-01, -1.74827862e+00, -9.09258604e-01],\n",
      "         [ 4.72396076e-01,  4.78515059e-01, -9.97567832e-01, ...,\n",
      "          -2.13169193e+00,  7.02200472e-01,  2.47516553e-03],\n",
      "         ...,\n",
      "         [-1.02950859e+00,  9.64552283e-01, -6.71450496e-01, ...,\n",
      "          -1.21944046e+00,  1.59142613e+00, -6.25725329e-01],\n",
      "         [ 1.76387072e+00, -2.13481769e-01,  8.80857468e-01, ...,\n",
      "           1.41323066e+00, -2.62828439e-01,  2.02833676e+00],\n",
      "         [ 7.54076421e-01, -5.58506966e-01, -7.40195692e-01, ...,\n",
      "          -3.29821706e+00, -6.17542148e-01,  2.77167559e-02]],\n",
      "\n",
      "        [[-5.69484472e-01,  9.64051008e-01,  9.75952446e-01, ...,\n",
      "           3.64738882e-01, -7.33837426e-01,  1.40237659e-01],\n",
      "         [-4.47132438e-03, -1.12189412e+00, -5.46557546e-01, ...,\n",
      "          -9.92535114e-01, -1.26139307e+00,  9.98256862e-01],\n",
      "         [-5.10864615e-01,  7.76965141e-01, -4.34781939e-01, ...,\n",
      "           3.42856348e-01, -1.00630867e+00, -1.62721586e+00],\n",
      "         ...,\n",
      "         [-3.04532707e-01,  7.94475734e-01,  4.38746452e-01, ...,\n",
      "           3.22109997e-01,  1.26223505e+00,  1.06081218e-01],\n",
      "         [-1.28686798e+00, -7.88253993e-02, -6.80550218e-01, ...,\n",
      "          -4.98753160e-01,  1.24031425e+00,  3.35148573e-02],\n",
      "         [ 3.94874424e-01, -1.02569833e-01, -8.84954095e-01, ...,\n",
      "           1.95890117e+00, -9.78830278e-01,  2.96755719e+00]]],\n",
      "\n",
      "\n",
      "       [[[-1.80916154e+00,  4.87587508e-03, -6.04139753e-02, ...,\n",
      "           4.74467129e-01,  1.27166382e-03, -2.03063893e+00],\n",
      "         [ 2.19391918e+00, -5.90830624e-01, -8.70102167e-01, ...,\n",
      "          -1.45846677e+00, -1.12949088e-01,  2.45439112e-01],\n",
      "         [-7.11991906e-01, -1.23070717e+00, -6.42893910e-01, ...,\n",
      "           1.01824164e+00,  7.70009577e-01,  1.76848292e+00],\n",
      "         ...,\n",
      "         [ 2.07930708e+00,  1.60130286e+00,  1.18518007e+00, ...,\n",
      "           1.86083853e+00,  4.41553086e-01, -4.80997592e-01],\n",
      "         [ 7.99518704e-01, -2.62882501e-01, -2.74698079e-01, ...,\n",
      "          -2.50027466e+00, -2.62449169e+00,  1.15979600e+00],\n",
      "         [-8.22021663e-01, -9.96498168e-01,  3.56591135e-01, ...,\n",
      "           1.22315633e+00,  9.02494609e-01, -1.62409320e-01]],\n",
      "\n",
      "        [[ 1.84707165e-01, -6.09542370e-01, -3.26222569e-01, ...,\n",
      "          -1.14446759e+00, -1.01547241e+00,  4.99403864e-01],\n",
      "         [ 9.58167017e-01, -6.73753098e-02,  6.34291828e-01, ...,\n",
      "           1.20716739e+00,  1.91436276e-01,  4.64149207e-01],\n",
      "         [-5.09549439e-01, -4.00924176e-01,  1.51584435e+00, ...,\n",
      "           1.52078676e+00,  6.30077124e-01,  1.67547297e+00],\n",
      "         ...,\n",
      "         [ 3.68352793e-02,  2.77503669e-01, -7.75289582e-03, ...,\n",
      "          -1.07582641e+00, -1.23149931e+00,  1.06218314e+00],\n",
      "         [ 1.15112774e-01,  1.18117499e+00, -1.35649800e-01, ...,\n",
      "           7.40663707e-01,  2.21641928e-01,  7.44258821e-01],\n",
      "         [-2.15512323e+00, -3.62338632e-01, -1.04023373e+00, ...,\n",
      "          -2.00179562e-01,  2.41904974e-01,  3.65750879e-01]],\n",
      "\n",
      "        [[-7.30931997e-01, -8.92385304e-01,  3.22353184e-01, ...,\n",
      "          -1.13022494e+00, -2.70410422e-02, -4.94872391e-01],\n",
      "         [ 8.48113298e-01,  3.45236361e-01, -3.93917233e-01, ...,\n",
      "           7.12360084e-01, -8.55629981e-01,  2.02034354e+00],\n",
      "         [ 1.69036376e+00,  7.21385837e-01, -9.39966977e-01, ...,\n",
      "           1.87399375e+00,  1.83459234e+00,  3.20265859e-01],\n",
      "         ...,\n",
      "         [ 8.86306465e-01,  5.81756353e-01, -1.01170635e+00, ...,\n",
      "           2.02911210e+00, -6.24269426e-01,  8.84212494e-01],\n",
      "         [ 2.88872331e-01, -2.54251603e-02,  5.38541853e-01, ...,\n",
      "           8.80268037e-01,  4.50046569e-01,  2.40937755e-01],\n",
      "         [-5.22522509e-01, -5.62900268e-02,  1.17695129e+00, ...,\n",
      "           2.34703287e-01, -7.64489267e-03, -4.26882267e-01]],\n",
      "\n",
      "        ...,\n",
      "\n",
      "        [[ 6.88058317e-01, -2.18573045e-02,  3.31940874e-02, ...,\n",
      "          -2.29900241e+00, -5.75084388e-02, -6.76049531e-01],\n",
      "         [ 8.63606870e-01,  5.56936324e-01, -2.32590675e+00, ...,\n",
      "           6.31742537e-01,  6.90051392e-02,  8.91471803e-01],\n",
      "         [-5.68230987e-01,  1.41194236e+00,  5.16830623e-01, ...,\n",
      "          -1.59631038e+00,  1.54613829e+00,  1.23278940e+00],\n",
      "         ...,\n",
      "         [ 1.05004299e+00,  2.15367839e-01,  1.89294183e+00, ...,\n",
      "          -2.03112513e-01,  2.78426051e-01, -4.38063025e-01],\n",
      "         [-1.89198864e+00,  7.13193774e-01,  8.13835502e-01, ...,\n",
      "           9.53508258e-01, -2.03526333e-01, -1.23198974e+00],\n",
      "         [-3.58863920e-01,  7.07106829e-01, -2.31090933e-01, ...,\n",
      "          -1.22295880e+00, -4.87576663e-01, -5.06886780e-01]],\n",
      "\n",
      "        [[-1.48137910e-02, -6.60024941e-01,  3.92744750e-01, ...,\n",
      "          -2.83356547e-01, -7.20455527e-01,  4.97036763e-02],\n",
      "         [-1.06103408e+00, -1.27563226e+00,  1.71269584e+00, ...,\n",
      "          -2.25456432e-04, -4.83493477e-01,  1.12511849e+00],\n",
      "         [ 9.96670127e-01, -1.55674362e+00,  7.17876256e-01, ...,\n",
      "          -6.59463644e-01,  2.05131674e+00, -6.64973736e-01],\n",
      "         ...,\n",
      "         [ 4.25487429e-01, -4.03567553e-01,  4.03935254e-01, ...,\n",
      "           4.75011885e-01,  2.85440415e-01, -2.17630520e-01],\n",
      "         [-1.16011119e+00,  7.84948349e-01,  9.31270957e-01, ...,\n",
      "           8.00873399e-01,  5.85297465e-01,  1.84924155e-01],\n",
      "         [-7.70566344e-01, -1.08015515e-01, -3.22668552e-02, ...,\n",
      "           8.27104867e-01, -1.47138762e+00,  9.94724154e-01]],\n",
      "\n",
      "        [[ 1.15128279e+00, -2.23762655e+00,  4.27308649e-01, ...,\n",
      "          -1.09829736e+00, -8.35445881e-01,  3.66953522e-01],\n",
      "         [ 1.72659829e-01, -2.80474424e-01,  1.41764915e+00, ...,\n",
      "          -1.00306189e+00,  1.01954174e+00, -3.29073429e-01],\n",
      "         [ 6.19451463e-01, -1.07327712e+00,  1.77351987e+00, ...,\n",
      "          -2.64093071e-01, -1.72321908e-02, -1.07053006e+00],\n",
      "         ...,\n",
      "         [-8.95218730e-01,  5.16825676e-01, -1.98960602e-01, ...,\n",
      "           9.07902181e-01,  5.63069403e-01,  1.08207059e+00],\n",
      "         [-8.31829190e-01,  2.05941647e-02,  4.82599765e-01, ...,\n",
      "          -7.88994133e-01, -7.77426600e-01, -6.08002007e-01],\n",
      "         [-1.19126749e+00,  1.64777398e+00, -1.98388591e-01, ...,\n",
      "           2.96593942e-02, -3.28639984e+00,  1.42379606e+00]]],\n",
      "\n",
      "\n",
      "       [[[-9.62914765e-01, -6.59048185e-02,  1.01184332e+00, ...,\n",
      "           3.99545848e-01,  9.24236715e-01, -5.37742674e-01],\n",
      "         [-8.19747448e-01, -4.83867824e-02, -2.52106786e+00, ...,\n",
      "          -4.21111375e-01,  5.48468053e-01, -5.29912822e-02],\n",
      "         [ 1.28775966e+00, -2.66342491e-01,  1.90542698e+00, ...,\n",
      "          -7.02359498e-01,  6.62078738e-01, -2.03738034e-01],\n",
      "         ...,\n",
      "         [ 8.21573064e-02,  9.19758022e-01, -5.39138436e-01, ...,\n",
      "           6.02546990e-01,  3.30668867e-01,  2.31161252e-01],\n",
      "         [-5.29155374e-01, -1.10369468e+00, -8.74088258e-02, ...,\n",
      "           5.55690944e-01,  1.50825989e+00, -1.37357748e+00],\n",
      "         [ 6.02997720e-01,  3.01287413e-01, -8.76455843e-01, ...,\n",
      "           2.33495697e-01, -1.81083217e-01, -1.33291692e-01]],\n",
      "\n",
      "        [[-2.81875461e-01, -2.94752687e-01, -1.84288394e+00, ...,\n",
      "           1.00650601e-02, -1.13367271e+00, -2.89099902e-01],\n",
      "         [ 1.34533656e+00, -6.73132479e-01, -4.69547510e-02, ...,\n",
      "          -1.80813897e+00,  8.22301090e-01,  8.28985870e-02],\n",
      "         [-6.90665305e-01, -9.25073445e-01,  2.14991927e+00, ...,\n",
      "           4.02027816e-01,  2.80121565e-01,  1.03679478e+00],\n",
      "         ...,\n",
      "         [ 1.32446432e+00, -1.72993001e-02,  1.16738290e-01, ...,\n",
      "          -3.46143335e-01, -2.73415893e-01, -2.82997817e-01],\n",
      "         [ 1.10967410e+00, -1.95909500e+00, -1.32037485e+00, ...,\n",
      "          -2.21298242e+00,  1.79869187e+00, -1.24093018e-01],\n",
      "         [ 5.51741123e-01, -8.72001052e-01, -1.82238817e-01, ...,\n",
      "           7.50035346e-02,  3.23251009e-01, -2.93058842e-01]],\n",
      "\n",
      "        [[ 8.96436691e-01,  1.68035343e-01,  1.58839440e+00, ...,\n",
      "          -2.19382629e-01,  1.31977499e+00,  9.58060682e-01],\n",
      "         [-2.76494002e+00, -5.06845534e-01, -1.21305488e-01, ...,\n",
      "          -2.88933873e-01,  1.42093885e+00,  2.20037475e-01],\n",
      "         [ 1.26423419e+00,  1.95751756e-01,  1.85290188e-01, ...,\n",
      "           6.92913771e-01,  5.40378213e-01,  1.41311991e+00],\n",
      "         ...,\n",
      "         [-1.06686570e-01, -2.60867357e-01, -2.14913845e+00, ...,\n",
      "          -1.09551084e+00,  1.69672346e+00, -7.25193739e-01],\n",
      "         [ 3.89776796e-01,  4.61010374e-02, -2.45090455e-01, ...,\n",
      "           5.15341520e-01,  2.89996004e+00,  1.64298117e-01],\n",
      "         [ 1.61388531e-01,  1.64592266e+00,  3.53878886e-01, ...,\n",
      "           2.81527191e-01,  5.13748825e-01, -2.00639153e+00]],\n",
      "\n",
      "        ...,\n",
      "\n",
      "        [[ 3.85878533e-02,  6.08262181e-01,  4.02568251e-01, ...,\n",
      "          -1.09372742e-01, -1.04889691e+00,  1.20585907e+00],\n",
      "         [-9.85001087e-01,  3.87742698e-01,  1.70922196e+00, ...,\n",
      "          -5.32298535e-02,  2.27535993e-01,  4.86131966e-01],\n",
      "         [ 1.30908534e-01, -2.61371881e-01,  1.30328429e+00, ...,\n",
      "          -5.15579581e-01, -4.24542487e-01, -1.42101622e+00],\n",
      "         ...,\n",
      "         [ 4.07846540e-01, -6.73624575e-01,  1.29767299e+00, ...,\n",
      "          -5.05392611e-01,  1.77627742e-01,  5.75892568e-01],\n",
      "         [-2.26910874e-01,  1.03358603e+00,  1.55672252e+00, ...,\n",
      "           1.08122742e+00,  2.90294945e-01,  7.35788405e-01],\n",
      "         [-1.05350614e+00,  5.07442951e-01, -2.01130211e-01, ...,\n",
      "          -1.84338105e+00,  1.05455622e-01,  3.74333382e-01]],\n",
      "\n",
      "        [[-1.57603157e+00,  9.87535298e-01, -1.08563793e+00, ...,\n",
      "           1.95098710e+00,  3.52280617e-01,  2.26245560e-02],\n",
      "         [-1.59438646e+00,  3.18035722e-01, -1.44469666e+00, ...,\n",
      "          -5.04041016e-01,  1.25406325e+00,  6.09450340e-01],\n",
      "         [-3.26602650e+00, -6.83091760e-01, -1.48460522e-01, ...,\n",
      "           6.88728213e-01,  6.60917401e-01, -8.53841484e-01],\n",
      "         ...,\n",
      "         [ 1.76522404e-01, -2.02029777e+00, -1.82886720e+00, ...,\n",
      "           1.22844148e+00, -4.67117935e-01,  7.77688384e-01],\n",
      "         [ 2.64389962e-01, -3.22532386e-01, -6.20506287e-01, ...,\n",
      "          -1.36370611e+00,  4.35130954e-01,  6.95843637e-01],\n",
      "         [-4.52277571e-01, -1.99096000e+00, -6.55817091e-01, ...,\n",
      "          -1.49633378e-01,  1.03969944e+00, -5.64524271e-02]],\n",
      "\n",
      "        [[-8.10229659e-01,  1.80311596e+00,  3.88878077e-01, ...,\n",
      "           5.96216500e-01, -1.26095688e+00,  1.36017466e+00],\n",
      "         [ 6.40512347e-01, -1.73246026e+00,  2.51035482e-01, ...,\n",
      "           3.16283375e-01,  5.82588792e-01, -9.95911002e-01],\n",
      "         [ 1.00072849e+00, -8.12585652e-01,  4.23243642e-02, ...,\n",
      "          -3.33695084e-01,  1.69363964e+00, -3.25056404e-01],\n",
      "         ...,\n",
      "         [-8.72816503e-01,  6.23697340e-02,  1.81742251e-01, ...,\n",
      "          -1.00160623e+00,  1.64344287e+00,  7.54715741e-01],\n",
      "         [-1.88825953e+00,  1.00655496e+00, -4.22035940e-02, ...,\n",
      "           9.78364110e-01, -5.49537003e-01, -5.17144501e-01],\n",
      "         [-7.74314404e-01, -1.00723243e+00,  1.20708108e+00, ...,\n",
      "          -8.22586834e-01,  4.31254797e-04,  9.97856557e-01]]]],\n",
      "      dtype=float32)>, <tf.Tensor: id=54969, shape=(10, 778), dtype=float32, numpy=\n",
      "array([[0.        , 0.        , 0.05109575, ..., 0.        , 0.240301  ,\n",
      "        0.8601958 ],\n",
      "       [0.3178401 , 0.        , 1.1916978 , ..., 0.        , 0.6820395 ,\n",
      "        0.7569044 ],\n",
      "       [0.        , 0.05251056, 0.28580582, ..., 0.        , 0.514384  ,\n",
      "        0.58050215],\n",
      "       ...,\n",
      "       [0.        , 0.        , 0.08904043, ..., 0.        , 0.32176217,\n",
      "        0.        ],\n",
      "       [0.        , 0.        , 0.01144199, ..., 0.17605932, 0.        ,\n",
      "        0.        ],\n",
      "       [0.13867198, 0.03947009, 0.        , ..., 0.200633  , 0.9357982 ,\n",
      "        0.        ]], dtype=float32)>]\n"
     ]
    }
   ],
   "source": [
    "\n",
    "                             \n",
    "generator_emulator = make_generator_model_emulator()\n",
    "inputs1 = tf.random.normal([10, 51, 778, 20])\n",
    "noise = tf.random.normal([10, noise_dim])\n",
    "generated_sales = generator_emulator([inputs1,noise], training=False)\n",
    "print(generated_sales)\n",
    "\n",
    "\n",
    "\n",
    " "
   ]
  },
  {
   "cell_type": "code",
   "execution_count": 397,
   "metadata": {},
   "outputs": [
    {
     "name": "stdout",
     "output_type": "stream",
     "text": [
      "(10, 51, 778, 20) (10, 200)\n",
      "<class 'tensorflow.python.framework.ops.EagerTensor'> <class 'tensorflow.python.framework.ops.EagerTensor'>\n",
      "(10, 51, 778, 20) (10, 778)\n"
     ]
    }
   ],
   "source": [
    "print(inputs1.shape,noise.shape)\n",
    "print(type(inputs1), type(noise))\n",
    "print(generated_sales[0].shape, generated_sales[1].shape)"
   ]
  },
  {
   "cell_type": "markdown",
   "metadata": {
    "colab_type": "text",
    "id": "D0IKnaCtg6WE"
   },
   "source": [
    "### The Discriminator\n",
    "\n",
    "The discriminator is a CNN-based image classifier."
   ]
  },
  {
   "cell_type": "code",
   "execution_count": 398,
   "metadata": {
    "colab": {},
    "colab_type": "code",
    "id": "dw2tPLmk2pEP"
   },
   "outputs": [],
   "source": [
    "def make_discriminator_model():\n",
    "    model = tf.keras.Sequential()\n",
    "    model.add(layers.Conv2D(64, (5, 5), strides=(2, 2), padding='same',\n",
    "                                     input_shape=[28, 28, 1]))\n",
    "    model.add(layers.LeakyReLU())\n",
    "    model.add(layers.Dropout(0.3))\n",
    "\n",
    "    model.add(layers.Conv2D(128, (5, 5), strides=(2, 2), padding='same'))\n",
    "    model.add(layers.LeakyReLU())\n",
    "    model.add(layers.Dropout(0.3))\n",
    "\n",
    "    model.add(layers.Flatten())\n",
    "    model.add(layers.Dense(1))\n",
    "\n",
    "    return model"
   ]
  },
  {
   "cell_type": "code",
   "execution_count": 399,
   "metadata": {
    "colab": {},
    "colab_type": "code",
    "id": "gDkA05NE6QMs"
   },
   "outputs": [
    {
     "name": "stdout",
     "output_type": "stream",
     "text": [
      "tf.Tensor(\n",
      "[[-6.0747843e-06]\n",
      " [-5.3354730e-03]\n",
      " [-1.4339420e-03]\n",
      " [-2.6597152e-03]\n",
      " [-2.7407655e-03]\n",
      " [-7.7412935e-04]\n",
      " [-2.2947351e-03]\n",
      " [-3.7069002e-03]\n",
      " [-1.9177597e-03]\n",
      " [-3.8601100e-03]], shape=(10, 1), dtype=float32)\n"
     ]
    }
   ],
   "source": [
    "discriminator = make_discriminator_model()\n",
    "decision = discriminator(generated_image)\n",
    "print (decision)"
   ]
  },
  {
   "cell_type": "code",
   "execution_count": 400,
   "metadata": {
    "colab": {},
    "colab_type": "code",
    "id": "dw2tPLmk2pEP"
   },
   "outputs": [],
   "source": [
    "def make_discriminator_model_emulator():    \n",
    "    inputs1 = tf.keras.Input(shape=[51,778,20])\n",
    "    inputs2 = tf.keras.Input(shape=(778,))\n",
    "\n",
    "    x = tf.keras.layers.Conv2D(64, (10, 10), strides=(10,10), padding='same')(inputs1)\n",
    "    x = tf.keras.layers.Flatten()(x)\n",
    "    x = tf.keras.layers.Dropout(0.3)(x)\n",
    "    x = tf.keras.layers.Dense(500, activation=tf.nn.relu)(x)\n",
    "    \n",
    "    x = tf.keras.layers.Flatten()(x)\n",
    "\n",
    "    y = tf.keras.layers.Dense(500)(inputs2) ##noise input\n",
    "    y = tf.keras.layers.Flatten()(y)\n",
    "    x = tf.concat([x,y],-1)\n",
    "\n",
    "    x = tf.keras.layers.Dense(500, activation=tf.nn.relu)(x)\n",
    "    x = tf.keras.layers.Dense(1)(x)\n",
    "    inputs=[inputs1,inputs2]\n",
    "    model = tf.keras.Model(inputs=inputs, outputs=x)\n",
    "\n",
    "    return model"
   ]
  },
  {
   "cell_type": "code",
   "execution_count": 401,
   "metadata": {
    "colab": {},
    "colab_type": "code",
    "id": "gDkA05NE6QMs"
   },
   "outputs": [
    {
     "name": "stdout",
     "output_type": "stream",
     "text": [
      "tf.Tensor(\n",
      "[[0.4685685 ]\n",
      " [1.273991  ]\n",
      " [0.81297666]\n",
      " [0.7301884 ]\n",
      " [0.56658834]\n",
      " [0.17685887]\n",
      " [0.18642789]\n",
      " [1.2878617 ]\n",
      " [1.3100376 ]\n",
      " [0.91035044]], shape=(10, 1), dtype=float32)\n"
     ]
    }
   ],
   "source": [
    "discriminator_emulator = make_discriminator_model_emulator()\n",
    "decision = discriminator_emulator(generated_sales)\n",
    "print (decision)"
   ]
  },
  {
   "cell_type": "code",
   "execution_count": 402,
   "metadata": {},
   "outputs": [
    {
     "name": "stdout",
     "output_type": "stream",
     "text": [
      "(10, 51, 778, 20)\n"
     ]
    }
   ],
   "source": [
    "print(generated_sales[0].shape)"
   ]
  },
  {
   "cell_type": "code",
   "execution_count": 403,
   "metadata": {},
   "outputs": [
    {
     "name": "stdout",
     "output_type": "stream",
     "text": [
      "<class 'tensorflow.python.framework.ops.EagerTensor'>\n"
     ]
    }
   ],
   "source": [
    "generated_image.shape\n",
    "print(type(generated_image))"
   ]
  },
  {
   "cell_type": "code",
   "execution_count": 406,
   "metadata": {},
   "outputs": [],
   "source": [
    "#train_step(generated_image)"
   ]
  },
  {
   "cell_type": "code",
   "execution_count": 407,
   "metadata": {},
   "outputs": [
    {
     "ename": "ValueError",
     "evalue": "in converted code:\n\n    <ipython-input-365-374dcada9fd8>:8 train_step_emulator  *\n        generated_sales = generator_emulator([conditional_sales,noise], training=True)\n    /usr/local/lib/python3.7/site-packages/tensorflow_core/python/keras/engine/base_layer.py:812 __call__\n        self.name)\n    /usr/local/lib/python3.7/site-packages/tensorflow_core/python/keras/engine/input_spec.py:155 assert_input_compatibility\n        ' input tensors. Inputs received: ' + str(inputs))\n\n    ValueError: Layer model_33 expects 2 inputs, but it received 3 input tensors. Inputs received: [<tf.Tensor 'conditional_sales:0' shape=(10, 51, 778, 20) dtype=float32>, <tf.Tensor 'conditional_sales_1:0' shape=(10, 778) dtype=float32>, <tf.Tensor 'random_normal:0' shape=(2, 200) dtype=float32>]\n",
     "output_type": "error",
     "traceback": [
      "\u001b[0;31m---------------------------------------------------------------------------\u001b[0m",
      "\u001b[0;31mValueError\u001b[0m                                Traceback (most recent call last)",
      "\u001b[0;32m<ipython-input-407-5a7dd2184778>\u001b[0m in \u001b[0;36m<module>\u001b[0;34m\u001b[0m\n\u001b[0;32m----> 1\u001b[0;31m \u001b[0mtrain_step_emulator\u001b[0m\u001b[0;34m(\u001b[0m\u001b[0mgenerated_sales\u001b[0m\u001b[0;34m)\u001b[0m\u001b[0;34m\u001b[0m\u001b[0;34m\u001b[0m\u001b[0m\n\u001b[0m",
      "\u001b[0;32m/usr/local/lib/python3.7/site-packages/tensorflow_core/python/eager/def_function.py\u001b[0m in \u001b[0;36m__call__\u001b[0;34m(self, *args, **kwds)\u001b[0m\n\u001b[1;32m    455\u001b[0m \u001b[0;34m\u001b[0m\u001b[0m\n\u001b[1;32m    456\u001b[0m     \u001b[0mtracing_count\u001b[0m \u001b[0;34m=\u001b[0m \u001b[0mself\u001b[0m\u001b[0;34m.\u001b[0m\u001b[0m_get_tracing_count\u001b[0m\u001b[0;34m(\u001b[0m\u001b[0;34m)\u001b[0m\u001b[0;34m\u001b[0m\u001b[0;34m\u001b[0m\u001b[0m\n\u001b[0;32m--> 457\u001b[0;31m     \u001b[0mresult\u001b[0m \u001b[0;34m=\u001b[0m \u001b[0mself\u001b[0m\u001b[0;34m.\u001b[0m\u001b[0m_call\u001b[0m\u001b[0;34m(\u001b[0m\u001b[0;34m*\u001b[0m\u001b[0margs\u001b[0m\u001b[0;34m,\u001b[0m \u001b[0;34m**\u001b[0m\u001b[0mkwds\u001b[0m\u001b[0;34m)\u001b[0m\u001b[0;34m\u001b[0m\u001b[0;34m\u001b[0m\u001b[0m\n\u001b[0m\u001b[1;32m    458\u001b[0m     \u001b[0;32mif\u001b[0m \u001b[0mtracing_count\u001b[0m \u001b[0;34m==\u001b[0m \u001b[0mself\u001b[0m\u001b[0;34m.\u001b[0m\u001b[0m_get_tracing_count\u001b[0m\u001b[0;34m(\u001b[0m\u001b[0;34m)\u001b[0m\u001b[0;34m:\u001b[0m\u001b[0;34m\u001b[0m\u001b[0;34m\u001b[0m\u001b[0m\n\u001b[1;32m    459\u001b[0m       \u001b[0mself\u001b[0m\u001b[0;34m.\u001b[0m\u001b[0m_call_counter\u001b[0m\u001b[0;34m.\u001b[0m\u001b[0mcalled_without_tracing\u001b[0m\u001b[0;34m(\u001b[0m\u001b[0;34m)\u001b[0m\u001b[0;34m\u001b[0m\u001b[0;34m\u001b[0m\u001b[0m\n",
      "\u001b[0;32m/usr/local/lib/python3.7/site-packages/tensorflow_core/python/eager/def_function.py\u001b[0m in \u001b[0;36m_call\u001b[0;34m(self, *args, **kwds)\u001b[0m\n\u001b[1;32m    492\u001b[0m       \u001b[0;31m# In this case we have not created variables on the first call. So we can\u001b[0m\u001b[0;34m\u001b[0m\u001b[0;34m\u001b[0m\u001b[0;34m\u001b[0m\u001b[0m\n\u001b[1;32m    493\u001b[0m       \u001b[0;31m# run the first trace but we should fail if variables are created.\u001b[0m\u001b[0;34m\u001b[0m\u001b[0;34m\u001b[0m\u001b[0;34m\u001b[0m\u001b[0m\n\u001b[0;32m--> 494\u001b[0;31m       \u001b[0mresults\u001b[0m \u001b[0;34m=\u001b[0m \u001b[0mself\u001b[0m\u001b[0;34m.\u001b[0m\u001b[0m_stateful_fn\u001b[0m\u001b[0;34m(\u001b[0m\u001b[0;34m*\u001b[0m\u001b[0margs\u001b[0m\u001b[0;34m,\u001b[0m \u001b[0;34m**\u001b[0m\u001b[0mkwds\u001b[0m\u001b[0;34m)\u001b[0m\u001b[0;34m\u001b[0m\u001b[0;34m\u001b[0m\u001b[0m\n\u001b[0m\u001b[1;32m    495\u001b[0m       \u001b[0;32mif\u001b[0m \u001b[0mself\u001b[0m\u001b[0;34m.\u001b[0m\u001b[0m_created_variables\u001b[0m\u001b[0;34m:\u001b[0m\u001b[0;34m\u001b[0m\u001b[0;34m\u001b[0m\u001b[0m\n\u001b[1;32m    496\u001b[0m         raise ValueError(\"Creating variables on a non-first call to a function\"\n",
      "\u001b[0;32m/usr/local/lib/python3.7/site-packages/tensorflow_core/python/eager/function.py\u001b[0m in \u001b[0;36m__call__\u001b[0;34m(self, *args, **kwargs)\u001b[0m\n\u001b[1;32m   1820\u001b[0m   \u001b[0;32mdef\u001b[0m \u001b[0m__call__\u001b[0m\u001b[0;34m(\u001b[0m\u001b[0mself\u001b[0m\u001b[0;34m,\u001b[0m \u001b[0;34m*\u001b[0m\u001b[0margs\u001b[0m\u001b[0;34m,\u001b[0m \u001b[0;34m**\u001b[0m\u001b[0mkwargs\u001b[0m\u001b[0;34m)\u001b[0m\u001b[0;34m:\u001b[0m\u001b[0;34m\u001b[0m\u001b[0;34m\u001b[0m\u001b[0m\n\u001b[1;32m   1821\u001b[0m     \u001b[0;34m\"\"\"Calls a graph function specialized to the inputs.\"\"\"\u001b[0m\u001b[0;34m\u001b[0m\u001b[0;34m\u001b[0m\u001b[0m\n\u001b[0;32m-> 1822\u001b[0;31m     \u001b[0mgraph_function\u001b[0m\u001b[0;34m,\u001b[0m \u001b[0margs\u001b[0m\u001b[0;34m,\u001b[0m \u001b[0mkwargs\u001b[0m \u001b[0;34m=\u001b[0m \u001b[0mself\u001b[0m\u001b[0;34m.\u001b[0m\u001b[0m_maybe_define_function\u001b[0m\u001b[0;34m(\u001b[0m\u001b[0margs\u001b[0m\u001b[0;34m,\u001b[0m \u001b[0mkwargs\u001b[0m\u001b[0;34m)\u001b[0m\u001b[0;34m\u001b[0m\u001b[0;34m\u001b[0m\u001b[0m\n\u001b[0m\u001b[1;32m   1823\u001b[0m     \u001b[0;32mreturn\u001b[0m \u001b[0mgraph_function\u001b[0m\u001b[0;34m.\u001b[0m\u001b[0m_filtered_call\u001b[0m\u001b[0;34m(\u001b[0m\u001b[0margs\u001b[0m\u001b[0;34m,\u001b[0m \u001b[0mkwargs\u001b[0m\u001b[0;34m)\u001b[0m  \u001b[0;31m# pylint: disable=protected-access\u001b[0m\u001b[0;34m\u001b[0m\u001b[0;34m\u001b[0m\u001b[0m\n\u001b[1;32m   1824\u001b[0m \u001b[0;34m\u001b[0m\u001b[0m\n",
      "\u001b[0;32m/usr/local/lib/python3.7/site-packages/tensorflow_core/python/eager/function.py\u001b[0m in \u001b[0;36m_maybe_define_function\u001b[0;34m(self, args, kwargs)\u001b[0m\n\u001b[1;32m   2148\u001b[0m         \u001b[0mgraph_function\u001b[0m \u001b[0;34m=\u001b[0m \u001b[0mself\u001b[0m\u001b[0;34m.\u001b[0m\u001b[0m_function_cache\u001b[0m\u001b[0;34m.\u001b[0m\u001b[0mprimary\u001b[0m\u001b[0;34m.\u001b[0m\u001b[0mget\u001b[0m\u001b[0;34m(\u001b[0m\u001b[0mcache_key\u001b[0m\u001b[0;34m,\u001b[0m \u001b[0;32mNone\u001b[0m\u001b[0;34m)\u001b[0m\u001b[0;34m\u001b[0m\u001b[0;34m\u001b[0m\u001b[0m\n\u001b[1;32m   2149\u001b[0m         \u001b[0;32mif\u001b[0m \u001b[0mgraph_function\u001b[0m \u001b[0;32mis\u001b[0m \u001b[0;32mNone\u001b[0m\u001b[0;34m:\u001b[0m\u001b[0;34m\u001b[0m\u001b[0;34m\u001b[0m\u001b[0m\n\u001b[0;32m-> 2150\u001b[0;31m           \u001b[0mgraph_function\u001b[0m \u001b[0;34m=\u001b[0m \u001b[0mself\u001b[0m\u001b[0;34m.\u001b[0m\u001b[0m_create_graph_function\u001b[0m\u001b[0;34m(\u001b[0m\u001b[0margs\u001b[0m\u001b[0;34m,\u001b[0m \u001b[0mkwargs\u001b[0m\u001b[0;34m)\u001b[0m\u001b[0;34m\u001b[0m\u001b[0;34m\u001b[0m\u001b[0m\n\u001b[0m\u001b[1;32m   2151\u001b[0m           \u001b[0mself\u001b[0m\u001b[0;34m.\u001b[0m\u001b[0m_function_cache\u001b[0m\u001b[0;34m.\u001b[0m\u001b[0mprimary\u001b[0m\u001b[0;34m[\u001b[0m\u001b[0mcache_key\u001b[0m\u001b[0;34m]\u001b[0m \u001b[0;34m=\u001b[0m \u001b[0mgraph_function\u001b[0m\u001b[0;34m\u001b[0m\u001b[0;34m\u001b[0m\u001b[0m\n\u001b[1;32m   2152\u001b[0m         \u001b[0;32mreturn\u001b[0m \u001b[0mgraph_function\u001b[0m\u001b[0;34m,\u001b[0m \u001b[0margs\u001b[0m\u001b[0;34m,\u001b[0m \u001b[0mkwargs\u001b[0m\u001b[0;34m\u001b[0m\u001b[0;34m\u001b[0m\u001b[0m\n",
      "\u001b[0;32m/usr/local/lib/python3.7/site-packages/tensorflow_core/python/eager/function.py\u001b[0m in \u001b[0;36m_create_graph_function\u001b[0;34m(self, args, kwargs, override_flat_arg_shapes)\u001b[0m\n\u001b[1;32m   2039\u001b[0m             \u001b[0marg_names\u001b[0m\u001b[0;34m=\u001b[0m\u001b[0marg_names\u001b[0m\u001b[0;34m,\u001b[0m\u001b[0;34m\u001b[0m\u001b[0;34m\u001b[0m\u001b[0m\n\u001b[1;32m   2040\u001b[0m             \u001b[0moverride_flat_arg_shapes\u001b[0m\u001b[0;34m=\u001b[0m\u001b[0moverride_flat_arg_shapes\u001b[0m\u001b[0;34m,\u001b[0m\u001b[0;34m\u001b[0m\u001b[0;34m\u001b[0m\u001b[0m\n\u001b[0;32m-> 2041\u001b[0;31m             capture_by_value=self._capture_by_value),\n\u001b[0m\u001b[1;32m   2042\u001b[0m         \u001b[0mself\u001b[0m\u001b[0;34m.\u001b[0m\u001b[0m_function_attributes\u001b[0m\u001b[0;34m,\u001b[0m\u001b[0;34m\u001b[0m\u001b[0;34m\u001b[0m\u001b[0m\n\u001b[1;32m   2043\u001b[0m         \u001b[0;31m# Tell the ConcreteFunction to clean up its graph once it goes out of\u001b[0m\u001b[0;34m\u001b[0m\u001b[0;34m\u001b[0m\u001b[0;34m\u001b[0m\u001b[0m\n",
      "\u001b[0;32m/usr/local/lib/python3.7/site-packages/tensorflow_core/python/framework/func_graph.py\u001b[0m in \u001b[0;36mfunc_graph_from_py_func\u001b[0;34m(name, python_func, args, kwargs, signature, func_graph, autograph, autograph_options, add_control_dependencies, arg_names, op_return_value, collections, capture_by_value, override_flat_arg_shapes)\u001b[0m\n\u001b[1;32m    913\u001b[0m                                           converted_func)\n\u001b[1;32m    914\u001b[0m \u001b[0;34m\u001b[0m\u001b[0m\n\u001b[0;32m--> 915\u001b[0;31m       \u001b[0mfunc_outputs\u001b[0m \u001b[0;34m=\u001b[0m \u001b[0mpython_func\u001b[0m\u001b[0;34m(\u001b[0m\u001b[0;34m*\u001b[0m\u001b[0mfunc_args\u001b[0m\u001b[0;34m,\u001b[0m \u001b[0;34m**\u001b[0m\u001b[0mfunc_kwargs\u001b[0m\u001b[0;34m)\u001b[0m\u001b[0;34m\u001b[0m\u001b[0;34m\u001b[0m\u001b[0m\n\u001b[0m\u001b[1;32m    916\u001b[0m \u001b[0;34m\u001b[0m\u001b[0m\n\u001b[1;32m    917\u001b[0m       \u001b[0;31m# invariant: `func_outputs` contains only Tensors, CompositeTensors,\u001b[0m\u001b[0;34m\u001b[0m\u001b[0;34m\u001b[0m\u001b[0;34m\u001b[0m\u001b[0m\n",
      "\u001b[0;32m/usr/local/lib/python3.7/site-packages/tensorflow_core/python/eager/def_function.py\u001b[0m in \u001b[0;36mwrapped_fn\u001b[0;34m(*args, **kwds)\u001b[0m\n\u001b[1;32m    356\u001b[0m         \u001b[0;31m# __wrapped__ allows AutoGraph to swap in a converted function. We give\u001b[0m\u001b[0;34m\u001b[0m\u001b[0;34m\u001b[0m\u001b[0;34m\u001b[0m\u001b[0m\n\u001b[1;32m    357\u001b[0m         \u001b[0;31m# the function a weak reference to itself to avoid a reference cycle.\u001b[0m\u001b[0;34m\u001b[0m\u001b[0;34m\u001b[0m\u001b[0;34m\u001b[0m\u001b[0m\n\u001b[0;32m--> 358\u001b[0;31m         \u001b[0;32mreturn\u001b[0m \u001b[0mweak_wrapped_fn\u001b[0m\u001b[0;34m(\u001b[0m\u001b[0;34m)\u001b[0m\u001b[0;34m.\u001b[0m\u001b[0m__wrapped__\u001b[0m\u001b[0;34m(\u001b[0m\u001b[0;34m*\u001b[0m\u001b[0margs\u001b[0m\u001b[0;34m,\u001b[0m \u001b[0;34m**\u001b[0m\u001b[0mkwds\u001b[0m\u001b[0;34m)\u001b[0m\u001b[0;34m\u001b[0m\u001b[0;34m\u001b[0m\u001b[0m\n\u001b[0m\u001b[1;32m    359\u001b[0m     \u001b[0mweak_wrapped_fn\u001b[0m \u001b[0;34m=\u001b[0m \u001b[0mweakref\u001b[0m\u001b[0;34m.\u001b[0m\u001b[0mref\u001b[0m\u001b[0;34m(\u001b[0m\u001b[0mwrapped_fn\u001b[0m\u001b[0;34m)\u001b[0m\u001b[0;34m\u001b[0m\u001b[0;34m\u001b[0m\u001b[0m\n\u001b[1;32m    360\u001b[0m \u001b[0;34m\u001b[0m\u001b[0m\n",
      "\u001b[0;32m/usr/local/lib/python3.7/site-packages/tensorflow_core/python/framework/func_graph.py\u001b[0m in \u001b[0;36mwrapper\u001b[0;34m(*args, **kwargs)\u001b[0m\n\u001b[1;32m    903\u001b[0m           \u001b[0;32mexcept\u001b[0m \u001b[0mException\u001b[0m \u001b[0;32mas\u001b[0m \u001b[0me\u001b[0m\u001b[0;34m:\u001b[0m  \u001b[0;31m# pylint:disable=broad-except\u001b[0m\u001b[0;34m\u001b[0m\u001b[0;34m\u001b[0m\u001b[0m\n\u001b[1;32m    904\u001b[0m             \u001b[0;32mif\u001b[0m \u001b[0mhasattr\u001b[0m\u001b[0;34m(\u001b[0m\u001b[0me\u001b[0m\u001b[0;34m,\u001b[0m \u001b[0;34m\"ag_error_metadata\"\u001b[0m\u001b[0;34m)\u001b[0m\u001b[0;34m:\u001b[0m\u001b[0;34m\u001b[0m\u001b[0;34m\u001b[0m\u001b[0m\n\u001b[0;32m--> 905\u001b[0;31m               \u001b[0;32mraise\u001b[0m \u001b[0me\u001b[0m\u001b[0;34m.\u001b[0m\u001b[0mag_error_metadata\u001b[0m\u001b[0;34m.\u001b[0m\u001b[0mto_exception\u001b[0m\u001b[0;34m(\u001b[0m\u001b[0me\u001b[0m\u001b[0;34m)\u001b[0m\u001b[0;34m\u001b[0m\u001b[0;34m\u001b[0m\u001b[0m\n\u001b[0m\u001b[1;32m    906\u001b[0m             \u001b[0;32melse\u001b[0m\u001b[0;34m:\u001b[0m\u001b[0;34m\u001b[0m\u001b[0;34m\u001b[0m\u001b[0m\n\u001b[1;32m    907\u001b[0m               \u001b[0;32mraise\u001b[0m\u001b[0;34m\u001b[0m\u001b[0;34m\u001b[0m\u001b[0m\n",
      "\u001b[0;31mValueError\u001b[0m: in converted code:\n\n    <ipython-input-365-374dcada9fd8>:8 train_step_emulator  *\n        generated_sales = generator_emulator([conditional_sales,noise], training=True)\n    /usr/local/lib/python3.7/site-packages/tensorflow_core/python/keras/engine/base_layer.py:812 __call__\n        self.name)\n    /usr/local/lib/python3.7/site-packages/tensorflow_core/python/keras/engine/input_spec.py:155 assert_input_compatibility\n        ' input tensors. Inputs received: ' + str(inputs))\n\n    ValueError: Layer model_33 expects 2 inputs, but it received 3 input tensors. Inputs received: [<tf.Tensor 'conditional_sales:0' shape=(10, 51, 778, 20) dtype=float32>, <tf.Tensor 'conditional_sales_1:0' shape=(10, 778) dtype=float32>, <tf.Tensor 'random_normal:0' shape=(2, 200) dtype=float32>]\n"
     ]
    }
   ],
   "source": [
    "train_step_emulator(generated_sales)"
   ]
  },
  {
   "cell_type": "markdown",
   "metadata": {
    "colab_type": "text",
    "id": "QhPneagzCaQv"
   },
   "source": [
    "Use the (as yet untrained) discriminator to classify the generated images as real or fake. The model will be trained to output positive values for real images, and negative values for fake images."
   ]
  },
  {
   "cell_type": "markdown",
   "metadata": {
    "colab_type": "text",
    "id": "0FMYgY_mPfTi"
   },
   "source": [
    "## Define the loss and optimizers\n",
    "\n",
    "Define loss functions and optimizers for both models.\n"
   ]
  },
  {
   "cell_type": "code",
   "execution_count": 408,
   "metadata": {
    "colab": {},
    "colab_type": "code",
    "id": "psQfmXxYKU3X"
   },
   "outputs": [],
   "source": [
    "# This method returns a helper function to compute cross entropy loss\n",
    "cross_entropy = tf.keras.losses.BinaryCrossentropy(from_logits=True)"
   ]
  },
  {
   "cell_type": "markdown",
   "metadata": {
    "colab_type": "text",
    "id": "PKY_iPSPNWoj"
   },
   "source": [
    "### Discriminator loss\n",
    "\n",
    "This method quantifies how well the discriminator is able to distinguish real images from fakes. It compares the discriminator's predictions on real images to an array of 1s, and the discriminator's predictions on fake (generated) images to an array of 0s."
   ]
  },
  {
   "cell_type": "code",
   "execution_count": 409,
   "metadata": {
    "colab": {},
    "colab_type": "code",
    "id": "wkMNfBWlT-PV"
   },
   "outputs": [],
   "source": [
    "def discriminator_loss(real_output, fake_output):\n",
    "    real_loss = cross_entropy(tf.ones_like(real_output), real_output)\n",
    "    fake_loss = cross_entropy(tf.zeros_like(fake_output), fake_output)\n",
    "    total_loss = real_loss + fake_loss\n",
    "    return total_loss"
   ]
  },
  {
   "cell_type": "markdown",
   "metadata": {
    "colab_type": "text",
    "id": "Jd-3GCUEiKtv"
   },
   "source": [
    "### Generator loss\n",
    "The generator's loss quantifies how well it was able to trick the discriminator. Intuitively, if the generator is performing well, the discriminator will classify the fake images as real (or 1). Here, we will compare the discriminators decisions on the generated images to an array of 1s."
   ]
  },
  {
   "cell_type": "code",
   "execution_count": 410,
   "metadata": {
    "colab": {},
    "colab_type": "code",
    "id": "90BIcCKcDMxz"
   },
   "outputs": [],
   "source": [
    "def generator_loss(fake_output):\n",
    "    return cross_entropy(tf.ones_like(fake_output), fake_output)"
   ]
  },
  {
   "cell_type": "markdown",
   "metadata": {
    "colab_type": "text",
    "id": "MgIc7i0th_Iu"
   },
   "source": [
    "The discriminator and the generator optimizers are different since we will train two networks separately."
   ]
  },
  {
   "cell_type": "code",
   "execution_count": 411,
   "metadata": {
    "colab": {},
    "colab_type": "code",
    "id": "iWCn_PVdEJZ7"
   },
   "outputs": [],
   "source": [
    "generator_optimizer = tf.keras.optimizers.Adam(1e-4)\n",
    "discriminator_optimizer = tf.keras.optimizers.Adam(1e-4)"
   ]
  },
  {
   "cell_type": "markdown",
   "metadata": {
    "colab_type": "text",
    "id": "mWtinsGDPJlV"
   },
   "source": [
    "### Save checkpoints\n",
    "This notebook also demonstrates how to save and restore models, which can be helpful in case a long running training task is interrupted."
   ]
  },
  {
   "cell_type": "code",
   "execution_count": 412,
   "metadata": {
    "colab": {},
    "colab_type": "code",
    "id": "CA1w-7s2POEy"
   },
   "outputs": [],
   "source": [
    "checkpoint_dir = './training_checkpoints'\n",
    "checkpoint_prefix = os.path.join(checkpoint_dir, \"ckpt\")\n",
    "checkpoint = tf.train.Checkpoint(generator_optimizer=generator_optimizer,\n",
    "                                 discriminator_optimizer=discriminator_optimizer,\n",
    "                                 generator=generator,\n",
    "                                 discriminator=discriminator)"
   ]
  },
  {
   "cell_type": "markdown",
   "metadata": {
    "colab_type": "text",
    "id": "Rw1fkAczTQYh"
   },
   "source": [
    "## Define the training loop\n",
    "\n"
   ]
  },
  {
   "cell_type": "code",
   "execution_count": 501,
   "metadata": {
    "colab": {},
    "colab_type": "code",
    "id": "NS2GWywBbAWo"
   },
   "outputs": [],
   "source": [
    "\n",
    "\n",
    "# We will reuse this seed overtime (so it's easier)\n",
    "# to visualize progress in the animated GIF)\n",
    "seed = tf.random.normal([BATCH_SIZE, noise_dim])"
   ]
  },
  {
   "cell_type": "code",
   "execution_count": 502,
   "metadata": {},
   "outputs": [
    {
     "name": "stdout",
     "output_type": "stream",
     "text": [
      "(2, 200)\n"
     ]
    }
   ],
   "source": [
    "print(seed.shape)"
   ]
  },
  {
   "cell_type": "markdown",
   "metadata": {
    "colab_type": "text",
    "id": "jylSonrqSWfi"
   },
   "source": [
    "The training loop begins with generator receiving a random seed as input. That seed is used to produce an image. The discriminator is then used to classify real images (drawn from the training set) and fakes images (produced by the generator). The loss is calculated for each of these models, and the gradients are used to update the generator and discriminator."
   ]
  },
  {
   "cell_type": "code",
   "execution_count": 464,
   "metadata": {
    "colab": {},
    "colab_type": "code",
    "id": "3t5ibNo05jCB"
   },
   "outputs": [],
   "source": [
    "# Notice the use of `tf.function`\n",
    "# This annotation causes the function to be \"compiled\".\n",
    "@tf.function\n",
    "def train_step(images):\n",
    "    noise = tf.random.normal([BATCH_SIZE, noise_dim])\n",
    "\n",
    "    with tf.GradientTape() as gen_tape, tf.GradientTape() as disc_tape:\n",
    "      generated_images = generator(noise, training=True)\n",
    "\n",
    "      real_output = discriminator(images, training=True)\n",
    "      fake_output = discriminator(generated_images, training=True)\n",
    "\n",
    "      gen_loss = generator_loss(fake_output)\n",
    "      disc_loss = discriminator_loss(real_output, fake_output)\n",
    "\n",
    "    gradients_of_generator = gen_tape.gradient(gen_loss, generator.trainable_variables)\n",
    "    gradients_of_discriminator = disc_tape.gradient(disc_loss, discriminator.trainable_variables)\n",
    "\n",
    "    generator_optimizer.apply_gradients(zip(gradients_of_generator, generator.trainable_variables))\n",
    "    discriminator_optimizer.apply_gradients(zip(gradients_of_discriminator, discriminator.trainable_variables))"
   ]
  },
  {
   "cell_type": "code",
   "execution_count": 503,
   "metadata": {
    "colab": {},
    "colab_type": "code",
    "id": "3t5ibNo05jCB"
   },
   "outputs": [],
   "source": [
    "# Notice the use of `tf.function`\n",
    "# This annotation causes the function to be \"compiled\".\n",
    "@tf.function\n",
    "def train_step_emulator(conditional_sales):\n",
    "    noise = tf.random.normal([BATCH_SIZE, noise_dim])\n",
    "\n",
    "    with tf.GradientTape() as gen_tape, tf.GradientTape() as disc_tape:\n",
    "        generated_sales = generator_emulator([conditional_sales[0],noise], training=True)\n",
    "\n",
    "        real_output = discriminator_emulator(conditional_sales, training=True)\n",
    "        fake_output = discriminator_emulator(generated_sales, training=True)\n",
    "\n",
    "        gen_loss = generator_loss(fake_output)\n",
    "        disc_loss = discriminator_loss(real_output, fake_output)\n",
    "\n",
    "    gradients_of_generator = gen_tape.gradient(gen_loss, generator_emulator.trainable_variables)\n",
    "    gradients_of_discriminator = disc_tape.gradient(disc_loss, discriminator_emulator.trainable_variables)\n",
    "\n",
    "    generator_optimizer.apply_gradients(zip(gradients_of_generator, generator_emulator.trainable_variables))\n",
    "    discriminator_optimizer.apply_gradients(zip(gradients_of_discriminator, discriminator_emulator.trainable_variables))"
   ]
  },
  {
   "cell_type": "code",
   "execution_count": 453,
   "metadata": {
    "colab": {},
    "colab_type": "code",
    "id": "2M7LmLtGEMQJ"
   },
   "outputs": [],
   "source": [
    "def train(dataset, epochs):\n",
    "  for epoch in range(epochs):\n",
    "    start = time.time()\n",
    "\n",
    "    for image_batch in dataset:\n",
    "      train_step(image_batch)\n",
    "\n",
    "    # Produce images for the GIF as we go\n",
    "    display.clear_output(wait=True)\n",
    "    generate_and_save_images(generator,\n",
    "                             epoch + 1,\n",
    "                             seed)\n",
    "\n",
    "    # Save the model every 15 epochs\n",
    "    if (epoch + 1) % 15 == 0:\n",
    "      checkpoint.save(file_prefix = checkpoint_prefix)\n",
    "\n",
    "    print ('Time for epoch {} is {} sec'.format(epoch + 1, time.time()-start))\n",
    "\n",
    "  # Generate after the final epoch\n",
    "  display.clear_output(wait=True)\n",
    "  generate_and_save_images(generator,\n",
    "                           epochs,\n",
    "                           seed)"
   ]
  },
  {
   "cell_type": "code",
   "execution_count": 504,
   "metadata": {},
   "outputs": [],
   "source": [
    "def generate_and_display(model, epoch, test_input):\n",
    "  # Notice `training` is set to False.\n",
    "  # This is so all layers run in inference mode (batchnorm).\n",
    "    predictions = model(test_input, training=False)\n",
    "    print(predictions)"
   ]
  },
  {
   "cell_type": "code",
   "execution_count": 505,
   "metadata": {
    "colab": {},
    "colab_type": "code",
    "id": "2M7LmLtGEMQJ"
   },
   "outputs": [],
   "source": [
    "def train_emulator(dataset, epochs):\n",
    "  for epoch in range(epochs):\n",
    "    start = time.time()\n",
    "\n",
    "    for conditional_sales_batch in dataset:\n",
    "        train_step_emulator(conditional_sales_batch)\n",
    "\n",
    "    # Produce images for the GIF as we go\n",
    "    display.clear_output(wait=True)\n",
    "    generate_and_display(generator_emulator,epoch + 1, [conditional_sales_batch[0],seed])\n",
    "\n",
    "    # Save the model every 15 epochs\n",
    "    if (epoch + 1) % 15 == 0:\n",
    "      checkpoint.save(file_prefix = checkpoint_prefix)\n",
    "\n",
    "    print ('Time for epoch {} is {} sec'.format(epoch + 1, time.time()-start))\n",
    "\n",
    "  # Generate after the final epoch\n",
    "  display.clear_output(wait=True)\n",
    "  generate_and_display(generator,epochs, [conditional_sales_batch[0],seed])"
   ]
  },
  {
   "cell_type": "markdown",
   "metadata": {
    "colab_type": "text",
    "id": "2aFF7Hk3XdeW"
   },
   "source": [
    "**Generate and save images**\n",
    "\n"
   ]
  },
  {
   "cell_type": "code",
   "execution_count": 497,
   "metadata": {
    "colab": {},
    "colab_type": "code",
    "id": "RmdVsmvhPxyy"
   },
   "outputs": [],
   "source": [
    "def generate_and_save_images(model, epoch, test_input):\n",
    "  # Notice `training` is set to False.\n",
    "  # This is so all layers run in inference mode (batchnorm).\n",
    "  predictions = model(test_input, training=False)\n",
    "\n",
    "  fig = plt.figure(figsize=(4,4))\n",
    "\n",
    "  for i in range(predictions.shape[0]):\n",
    "      plt.subplot(4, 4, i+1)\n",
    "      plt.imshow(predictions[i, :, :, 0] * 127.5 + 127.5, cmap='gray')\n",
    "      plt.axis('off')\n",
    "\n",
    "  plt.savefig('image_at_epoch_{:04d}.png'.format(epoch))\n",
    "  plt.show()"
   ]
  },
  {
   "cell_type": "markdown",
   "metadata": {
    "colab_type": "text",
    "id": "dZrd4CdjR-Fp"
   },
   "source": [
    "## Train the model\n",
    "Call the `train()` method defined above to train the generator and discriminator simultaneously. Note, training GANs can be tricky. It's important that the generator and discriminator do not overpower each other (e.g., that they train at a similar rate).\n",
    "\n",
    "At the beginning of the training, the generated images look like random noise. As training progresses, the generated digits will look increasingly real. After about 50 epochs, they resemble MNIST digits. This may take about one minute / epoch with the default settings on Colab."
   ]
  },
  {
   "cell_type": "code",
   "execution_count": null,
   "metadata": {
    "colab": {},
    "colab_type": "code",
    "id": "Ly3UN0SLLY2l"
   },
   "outputs": [],
   "source": [
    "%%time\n",
    "train(train_dataset, EPOCHS)"
   ]
  },
  {
   "cell_type": "code",
   "execution_count": null,
   "metadata": {
    "colab": {},
    "colab_type": "code",
    "id": "Ly3UN0SLLY2l"
   },
   "outputs": [
    {
     "name": "stdout",
     "output_type": "stream",
     "text": [
      "[<tf.Tensor: id=67794, shape=(2, 51, 778, 20), dtype=float32, numpy=\n",
      "array([[[[ 1.1110002e+09, -1.0000000e+00,  0.0000000e+00, ...,\n",
      "           2.0000000e+00,  1.8000000e+01,  4.1754000e+04],\n",
      "         [ 1.1110002e+09, -1.0000000e+00,  2.0000000e+00, ...,\n",
      "           2.0000000e+00,  1.8000000e+01,  4.1754000e+04],\n",
      "         [ 1.1110002e+09, -1.0000000e+00,  0.0000000e+00, ...,\n",
      "           2.0000000e+00,  1.8000000e+01,  4.1754000e+04],\n",
      "         ...,\n",
      "         [ 6.1124735e+10, -1.0000000e+00,  0.0000000e+00, ...,\n",
      "           0.0000000e+00,  0.0000000e+00,  0.0000000e+00],\n",
      "         [ 6.1124735e+10, -1.0000000e+00,  0.0000000e+00, ...,\n",
      "           0.0000000e+00,  0.0000000e+00,  0.0000000e+00],\n",
      "         [ 6.5827619e+10, -1.0000000e+00,  0.0000000e+00, ...,\n",
      "           0.0000000e+00,  0.0000000e+00,  0.0000000e+00]],\n",
      "\n",
      "        [[ 1.1110002e+09, -1.0000000e+00,  3.0000000e+00, ...,\n",
      "           3.0000000e+00,  1.9000000e+01,  4.4712000e+04],\n",
      "         [ 1.1110002e+09, -1.0000000e+00,  4.0000000e+00, ...,\n",
      "           3.0000000e+00,  1.9000000e+01,  4.4712000e+04],\n",
      "         [ 1.1110002e+09, -1.0000000e+00,  3.0000000e+00, ...,\n",
      "           3.0000000e+00,  1.9000000e+01,  4.4712000e+04],\n",
      "         ...,\n",
      "         [ 6.1124735e+10, -1.0000000e+00,  0.0000000e+00, ...,\n",
      "           0.0000000e+00,  0.0000000e+00,  0.0000000e+00],\n",
      "         [ 6.1124735e+10, -1.0000000e+00,  0.0000000e+00, ...,\n",
      "           0.0000000e+00,  0.0000000e+00,  0.0000000e+00],\n",
      "         [ 6.5827619e+10, -1.0000000e+00,  0.0000000e+00, ...,\n",
      "           0.0000000e+00,  0.0000000e+00,  0.0000000e+00]],\n",
      "\n",
      "        [[ 1.1110002e+09, -1.0000000e+00,  1.0000000e+00, ...,\n",
      "           4.0000000e+00,  2.0000000e+01,  5.7292000e+04],\n",
      "         [ 1.1110002e+09, -1.0000000e+00,  2.0000000e+00, ...,\n",
      "           4.0000000e+00,  2.0000000e+01,  5.7292000e+04],\n",
      "         [ 1.1110002e+09, -1.0000000e+00,  2.0000000e+00, ...,\n",
      "           4.0000000e+00,  2.0000000e+01,  5.7292000e+04],\n",
      "         ...,\n",
      "         [ 6.1124735e+10, -1.0000000e+00,  0.0000000e+00, ...,\n",
      "           0.0000000e+00,  0.0000000e+00,  0.0000000e+00],\n",
      "         [ 6.1124735e+10, -1.0000000e+00,  0.0000000e+00, ...,\n",
      "           0.0000000e+00,  0.0000000e+00,  0.0000000e+00],\n",
      "         [ 6.5827619e+10, -1.0000000e+00,  0.0000000e+00, ...,\n",
      "           0.0000000e+00,  0.0000000e+00,  0.0000000e+00]],\n",
      "\n",
      "        ...,\n",
      "\n",
      "        [[ 1.1110002e+09, -1.0000000e+00,  0.0000000e+00, ...,\n",
      "           1.0000000e+00,  0.0000000e+00,  3.5613000e+04],\n",
      "         [ 1.1110002e+09, -1.0000000e+00,  3.0000000e+00, ...,\n",
      "           1.0000000e+00,  0.0000000e+00,  3.5613000e+04],\n",
      "         [ 1.1110002e+09, -1.0000000e+00,  1.0000000e+00, ...,\n",
      "           1.0000000e+00,  0.0000000e+00,  3.5613000e+04],\n",
      "         ...,\n",
      "         [ 4.9000074e+09, -1.0000000e+00,  0.0000000e+00, ...,\n",
      "           0.0000000e+00,  0.0000000e+00,  0.0000000e+00],\n",
      "         [ 4.9000074e+09, -1.0000000e+00,  0.0000000e+00, ...,\n",
      "           0.0000000e+00,  0.0000000e+00,  0.0000000e+00],\n",
      "         [ 4.9000074e+09, -1.0000000e+00,  0.0000000e+00, ...,\n",
      "           0.0000000e+00,  0.0000000e+00,  0.0000000e+00]],\n",
      "\n",
      "        [[ 1.1110002e+09, -1.0000000e+00,  1.0000000e+00, ...,\n",
      "           2.0000000e+00,  0.0000000e+00,  4.5857000e+04],\n",
      "         [ 1.1110002e+09, -1.0000000e+00,  5.0000000e+00, ...,\n",
      "           2.0000000e+00,  0.0000000e+00,  4.5857000e+04],\n",
      "         [ 1.1110002e+09, -1.0000000e+00,  0.0000000e+00, ...,\n",
      "           2.0000000e+00,  0.0000000e+00,  4.5857000e+04],\n",
      "         ...,\n",
      "         [ 4.9000074e+09, -1.0000000e+00,  0.0000000e+00, ...,\n",
      "           0.0000000e+00,  0.0000000e+00,  0.0000000e+00],\n",
      "         [ 4.9000074e+09, -1.0000000e+00,  0.0000000e+00, ...,\n",
      "           0.0000000e+00,  0.0000000e+00,  0.0000000e+00],\n",
      "         [ 4.9000074e+09, -1.0000000e+00,  0.0000000e+00, ...,\n",
      "           0.0000000e+00,  0.0000000e+00,  0.0000000e+00]],\n",
      "\n",
      "        [[ 1.1110002e+09, -1.0000000e+00,  2.0000000e+00, ...,\n",
      "           3.0000000e+00,  0.0000000e+00,  2.3017000e+04],\n",
      "         [ 1.1110002e+09, -1.0000000e+00,  4.0000000e+00, ...,\n",
      "           3.0000000e+00,  0.0000000e+00,  2.3017000e+04],\n",
      "         [ 1.1110002e+09, -1.0000000e+00,  0.0000000e+00, ...,\n",
      "           3.0000000e+00,  0.0000000e+00,  2.3017000e+04],\n",
      "         ...,\n",
      "         [ 4.9000074e+09, -1.0000000e+00,  0.0000000e+00, ...,\n",
      "           0.0000000e+00,  0.0000000e+00,  0.0000000e+00],\n",
      "         [ 4.9000074e+09, -1.0000000e+00,  0.0000000e+00, ...,\n",
      "           0.0000000e+00,  0.0000000e+00,  0.0000000e+00],\n",
      "         [ 4.9000074e+09, -1.0000000e+00,  0.0000000e+00, ...,\n",
      "           0.0000000e+00,  0.0000000e+00,  0.0000000e+00]]],\n",
      "\n",
      "\n",
      "       [[[ 1.1110002e+09, -1.0000000e+00,  2.0000000e+00, ...,\n",
      "           1.0000000e+00,  0.0000000e+00,  4.5802000e+04],\n",
      "         [ 1.1110002e+09, -1.0000000e+00,  1.0000000e+00, ...,\n",
      "           1.0000000e+00,  0.0000000e+00,  4.5802000e+04],\n",
      "         [ 1.1110002e+09, -1.0000000e+00,  0.0000000e+00, ...,\n",
      "           1.0000000e+00,  0.0000000e+00,  4.5802000e+04],\n",
      "         ...,\n",
      "         [ 6.1124735e+10, -1.0000000e+00,  0.0000000e+00, ...,\n",
      "           0.0000000e+00,  0.0000000e+00,  0.0000000e+00],\n",
      "         [ 6.1124735e+10, -1.0000000e+00,  0.0000000e+00, ...,\n",
      "           0.0000000e+00,  0.0000000e+00,  0.0000000e+00],\n",
      "         [ 6.5827619e+10, -1.0000000e+00,  0.0000000e+00, ...,\n",
      "           0.0000000e+00,  0.0000000e+00,  0.0000000e+00]],\n",
      "\n",
      "        [[ 1.1110002e+09, -1.0000000e+00,  2.0000000e+00, ...,\n",
      "           2.0000000e+00,  0.0000000e+00,  3.6025000e+04],\n",
      "         [ 1.1110002e+09, -1.0000000e+00,  7.0000000e+00, ...,\n",
      "           2.0000000e+00,  0.0000000e+00,  3.6025000e+04],\n",
      "         [ 1.1110002e+09, -1.0000000e+00,  0.0000000e+00, ...,\n",
      "           2.0000000e+00,  0.0000000e+00,  3.6025000e+04],\n",
      "         ...,\n",
      "         [ 6.1124735e+10, -1.0000000e+00,  0.0000000e+00, ...,\n",
      "           0.0000000e+00,  0.0000000e+00,  0.0000000e+00],\n",
      "         [ 6.1124735e+10, -1.0000000e+00,  0.0000000e+00, ...,\n",
      "           0.0000000e+00,  0.0000000e+00,  0.0000000e+00],\n",
      "         [ 6.5827619e+10, -1.0000000e+00,  0.0000000e+00, ...,\n",
      "           0.0000000e+00,  0.0000000e+00,  0.0000000e+00]],\n",
      "\n",
      "        [[ 1.1110002e+09, -1.0000000e+00,  4.0000000e+00, ...,\n",
      "           3.0000000e+00,  0.0000000e+00,  3.7495000e+04],\n",
      "         [ 1.1110002e+09, -1.0000000e+00,  1.0000000e+00, ...,\n",
      "           3.0000000e+00,  0.0000000e+00,  3.7495000e+04],\n",
      "         [ 1.1110002e+09, -1.0000000e+00,  1.0000000e+00, ...,\n",
      "           3.0000000e+00,  0.0000000e+00,  3.7495000e+04],\n",
      "         ...,\n",
      "         [ 6.1124735e+10, -1.0000000e+00,  0.0000000e+00, ...,\n",
      "           0.0000000e+00,  0.0000000e+00,  0.0000000e+00],\n",
      "         [ 6.1124735e+10, -1.0000000e+00,  0.0000000e+00, ...,\n",
      "           0.0000000e+00,  0.0000000e+00,  0.0000000e+00],\n",
      "         [ 6.5827619e+10, -1.0000000e+00,  0.0000000e+00, ...,\n",
      "           0.0000000e+00,  0.0000000e+00,  0.0000000e+00]],\n",
      "\n",
      "        ...,\n",
      "\n",
      "        [[ 1.1110002e+09, -1.0000000e+00,  5.0000000e+00, ...,\n",
      "           0.0000000e+00,  0.0000000e+00,  6.8537000e+04],\n",
      "         [ 1.1110002e+09, -1.0000000e+00,  5.0000000e+00, ...,\n",
      "           0.0000000e+00,  0.0000000e+00,  6.8537000e+04],\n",
      "         [ 1.1110002e+09, -1.0000000e+00,  0.0000000e+00, ...,\n",
      "           0.0000000e+00,  0.0000000e+00,  6.8537000e+04],\n",
      "         ...,\n",
      "         [ 4.9000074e+09, -1.0000000e+00,  0.0000000e+00, ...,\n",
      "           0.0000000e+00,  0.0000000e+00,  0.0000000e+00],\n",
      "         [ 7.0847027e+09, -1.0000000e+00,  0.0000000e+00, ...,\n",
      "           0.0000000e+00,  0.0000000e+00,  0.0000000e+00],\n",
      "         [ 7.0847027e+09, -1.0000000e+00,  0.0000000e+00, ...,\n",
      "           0.0000000e+00,  0.0000000e+00,  0.0000000e+00]],\n",
      "\n",
      "        [[ 1.1110002e+09, -1.0000000e+00,  6.0000000e+00, ...,\n",
      "           1.0000000e+00,  0.0000000e+00,  3.9580000e+04],\n",
      "         [ 1.1110002e+09, -1.0000000e+00,  0.0000000e+00, ...,\n",
      "           1.0000000e+00,  0.0000000e+00,  3.9580000e+04],\n",
      "         [ 1.1110002e+09, -1.0000000e+00,  1.0000000e+00, ...,\n",
      "           1.0000000e+00,  0.0000000e+00,  3.9580000e+04],\n",
      "         ...,\n",
      "         [ 4.9000074e+09, -1.0000000e+00,  0.0000000e+00, ...,\n",
      "           0.0000000e+00,  0.0000000e+00,  0.0000000e+00],\n",
      "         [ 7.0847027e+09, -1.0000000e+00,  0.0000000e+00, ...,\n",
      "           0.0000000e+00,  0.0000000e+00,  0.0000000e+00],\n",
      "         [ 7.0847027e+09, -1.0000000e+00,  0.0000000e+00, ...,\n",
      "           0.0000000e+00,  0.0000000e+00,  0.0000000e+00]],\n",
      "\n",
      "        [[ 1.1110002e+09, -1.0000000e+00,  1.0000000e+00, ...,\n",
      "           2.0000000e+00,  0.0000000e+00,  3.4868000e+04],\n",
      "         [ 1.1110002e+09, -1.0000000e+00,  2.0000000e+00, ...,\n",
      "           2.0000000e+00,  0.0000000e+00,  3.4868000e+04],\n",
      "         [ 1.1110002e+09, -1.0000000e+00,  0.0000000e+00, ...,\n",
      "           2.0000000e+00,  0.0000000e+00,  3.4868000e+04],\n",
      "         ...,\n",
      "         [ 4.9000074e+09, -1.0000000e+00,  0.0000000e+00, ...,\n",
      "           0.0000000e+00,  0.0000000e+00,  0.0000000e+00],\n",
      "         [ 7.0847027e+09, -1.0000000e+00,  0.0000000e+00, ...,\n",
      "           0.0000000e+00,  0.0000000e+00,  0.0000000e+00],\n",
      "         [ 7.0847027e+09, -1.0000000e+00,  0.0000000e+00, ...,\n",
      "           0.0000000e+00,  0.0000000e+00,  0.0000000e+00]]]],\n",
      "      dtype=float32)>, <tf.Tensor: id=67825, shape=(2, 778), dtype=float32, numpy=\n",
      "array([[0.        , 0.        , 0.        , ..., 0.        , 0.        ,\n",
      "        0.        ],\n",
      "       [0.        , 0.18922797, 0.09599322, ..., 0.        , 0.        ,\n",
      "        0.        ]], dtype=float32)>]\n",
      "Time for epoch 6 is 17.375214099884033 sec\n"
     ]
    }
   ],
   "source": [
    "%%time\n",
    "train_emulator(train_dataset_emulator, EPOCHS)"
   ]
  },
  {
   "cell_type": "markdown",
   "metadata": {
    "colab_type": "text",
    "id": "rfM4YcPVPkNO"
   },
   "source": [
    "Restore the latest checkpoint."
   ]
  },
  {
   "cell_type": "code",
   "execution_count": null,
   "metadata": {
    "colab": {},
    "colab_type": "code",
    "id": "XhXsd0srPo8c"
   },
   "outputs": [],
   "source": [
    "checkpoint.restore(tf.train.latest_checkpoint(checkpoint_dir))"
   ]
  }
 ],
 "metadata": {
  "accelerator": "GPU",
  "colab": {
   "collapsed_sections": [],
   "name": "dcgan.ipynb",
   "private_outputs": true,
   "provenance": [],
   "toc_visible": true,
   "version": "0.3.2"
  },
  "kernelspec": {
   "display_name": "Python 3",
   "language": "python",
   "name": "python3"
  },
  "language_info": {
   "codemirror_mode": {
    "name": "ipython",
    "version": 3
   },
   "file_extension": ".py",
   "mimetype": "text/x-python",
   "name": "python",
   "nbconvert_exporter": "python",
   "pygments_lexer": "ipython3",
   "version": "3.8.2"
  }
 },
 "nbformat": 4,
 "nbformat_minor": 1
}
